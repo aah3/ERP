{
  "cells": [
    {
      "cell_type": "markdown",
      "metadata": {
        "id": "AvWIItAe-0fN"
      },
      "source": [
        "[![Open In Colab](https://colab.research.google.com/assets/colab-badge.svg)](https://colab.research.google.com/github/crunchdao/quickstarters/blob/master/competitions/structural-break/quickstarters/baseline/baseline.ipynb)"
      ]
    },
    {
      "cell_type": "markdown",
      "metadata": {
        "id": "pNUXnJa_-0fO"
      },
      "source": [
        "![Banner](https://raw.githubusercontent.com/crunchdao/quickstarters/refs/heads/master/competitions/structural-break/assets/banner.webp)"
      ]
    },
    {
      "cell_type": "markdown",
      "metadata": {
        "id": "lurIF1Ve-0fP"
      },
      "source": [
        "# ADIA Lab Structural Break Challenge\n",
        "\n",
        "## Challenge Overview\n",
        "\n",
        "Welcome to the ADIA Lab Structural Break Challenge! In this challenge, you will analyze univariate time series data to determine whether a structural break has occurred at a specified boundary point.\n",
        "\n",
        "### What is a Structural Break?\n",
        "\n",
        "A structural break occurs when the process governing the data generation changes at a certain point in time. These changes can be subtle or dramatic, and detecting them accurately is crucial across various domains such as climatology, industrial monitoring, finance, and healthcare.\n",
        "\n",
        "![Structural Break Example](https://raw.githubusercontent.com/crunchdao/competitions/refs/heads/master/competitions/structural-break/quickstarters/baseline/images/example.png)\n",
        "\n",
        "### Your Task\n",
        "\n",
        "For each time series in the test set, you need to predict a score between `0` and `1`:\n",
        "- Values closer to `0` indicate no structural break at the specified boundary point;\n",
        "- Values closer to `1` indicate a structural break did occur.\n",
        "\n",
        "### Evaluation Metric\n",
        "\n",
        "The evaluation metric is [ROC AUC (Area Under the Receiver Operating Characteristic Curve)](https://scikit-learn.org/stable/modules/generated/sklearn.metrics.roc_auc_score.html), which measures the performance of detection algorithms regardless of their specific calibration.\n",
        "\n",
        "- ROC AUC around `0.5`: No better than random chance;\n",
        "- ROC AUC approaching `1.0`: Perfect detection."
      ]
    },
    {
      "cell_type": "markdown",
      "metadata": {
        "id": "LaRYfpgtP78A"
      },
      "source": [
        "# Setup\n",
        "\n",
        "The first steps to get started are:\n",
        "1. Get the setup command\n",
        "2. Execute it in the cell below\n",
        "\n",
        "### >> https://hub.crunchdao.com/competitions/structural-break/submit/notebook\n",
        "\n",
        "![Reveal token](https://raw.githubusercontent.com/crunchdao/competitions/refs/heads/master/documentation/animations/reveal-token.gif)"
      ]
    },
    {
      "cell_type": "code",
      "execution_count": 3,
      "metadata": {
        "colab": {
          "base_uri": "https://localhost:8080/"
        },
        "id": "7DUeixiC_IJM",
        "outputId": "058f5346-defa-4120-c6ad-b8979d665f01"
      },
      "outputs": [
        {
          "output_type": "stream",
          "name": "stdout",
          "text": [
            "delete /content/.crunchdao\n",
            "main.py: download from https:crunchdao--competition--production.s3.eu-west-1.amazonaws.com/submissions/21347/main.py (2945 bytes)\n",
            "notebook.ipynb: download from https:crunchdao--competition--production.s3.eu-west-1.amazonaws.com/submissions/21347/notebook.ipynb (85491 bytes)\n",
            "requirements.txt: download from https:crunchdao--competition--production.s3.eu-west-1.amazonaws.com/submissions/21347/requirements.original.txt (152 bytes)\n",
            "data/X_train.parquet: download from https:crunchdao--competition--production.s3.eu-west-1.amazonaws.com/data-releases/146/X_train.parquet (204327238 bytes)\n",
            "data/X_test.reduced.parquet: download from https:crunchdao--competition--production.s3.eu-west-1.amazonaws.com/data-releases/146/X_test.reduced.parquet (2380918 bytes)\n",
            "data/y_train.parquet: download from https:crunchdao--competition--production.s3.eu-west-1.amazonaws.com/data-releases/146/y_train.parquet (61003 bytes)\n",
            "data/y_test.reduced.parquet: download from https:crunchdao--competition--production.s3.eu-west-1.amazonaws.com/data-releases/146/y_test.reduced.parquet (2655 bytes)\n",
            "                                \n",
            "---\n",
            "Success! Your environment has been correctly setup.\n",
            "Next recommended actions:\n",
            "1. Load the Crunch Toolings: `crunch = crunch.load_notebook()`\n",
            "2. Execute the cells with your code\n",
            "3. Run a test: `crunch.test()`\n",
            "4. Download and submit your code to the platform!\n"
          ]
        }
      ],
      "source": [
        "# Go to: https://hub.crunchdao.com/competitions/structural-break/submit/notebook?projectName=stormy-ape\n",
        "# Get new token to run model\n",
        "%pip install crunch-cli --upgrade --quiet --progress-bar off\n",
        "!crunch setup-notebook structural-break kAmtg1KZQg7VNdCE6ovpE5Yc"
      ]
    },
    {
      "cell_type": "markdown",
      "metadata": {
        "id": "1IBhw7hv-0fQ"
      },
      "source": [
        "# Your model"
      ]
    },
    {
      "cell_type": "markdown",
      "metadata": {
        "id": "EpLeMWSw-0fQ"
      },
      "source": [
        "## Setup"
      ]
    },
    {
      "cell_type": "code",
      "execution_count": 4,
      "metadata": {
        "ExecuteTime": {
          "end_time": "2024-11-18T09:52:21.302334Z",
          "start_time": "2024-11-18T09:52:18.268241Z"
        },
        "id": "MKqz-6Zw-0fR"
      },
      "outputs": [],
      "source": [
        "# Import your dependencies\n",
        "import os\n",
        "import typing\n",
        "\n",
        "import joblib\n",
        "import pandas as pd\n",
        "import scipy\n",
        "import sklearn.metrics\n",
        "\n",
        "import crunch\n",
        "\n",
        "import numpy as np\n",
        "from typing import Tuple, Literal, List, Dict, Any, Optional, Union\n",
        "from pydantic import BaseModel, Field, field_validator\n",
        "from scipy import stats\n",
        "from sklearn.model_selection import train_test_split\n",
        "from sklearn.linear_model import LogisticRegression\n",
        "from sklearn.ensemble import RandomForestClassifier\n",
        "from sklearn.metrics import classification_report, roc_auc_score\n",
        "from sklearn.base import BaseEstimator\n",
        "\n",
        "import xgboost as xgb\n",
        "import lightgbm as lgb\n",
        "import torch\n",
        "import torch.nn as nn\n",
        "from torch.utils.data import TensorDataset, DataLoader\n",
        "from torch.nn.functional import binary_cross_entropy_with_logits\n",
        "from rich import print\n"
      ]
    },
    {
      "cell_type": "code",
      "source": [
        "\n",
        "# class definitions\n",
        "class SyntheticDataGenerator(BaseModel):\n",
        "    n_series: int\n",
        "    pct_true: float  # Between 0 and 1\n",
        "    min_length: int = 50\n",
        "    max_length: int = 200\n",
        "    seed: int = 42\n",
        "\n",
        "    class Config:\n",
        "        arbitrary_types_allowed = True\n",
        "\n",
        "    def _random_distribution(self, name: str, size: int, params: dict) -> np.ndarray:\n",
        "        dist_map = {\n",
        "            'normal': lambda: np.random.normal(params.get('loc', 0), params.get('scale', 1), size),\n",
        "            't': lambda: stats.t.rvs(df=params.get('df', 5), size=size),\n",
        "            'exponential': lambda: np.random.exponential(params.get('scale', 1), size),\n",
        "            'binomial': lambda: np.random.binomial(n=params.get('n', 10), p=params.get('p', 0.5), size=size),\n",
        "        }\n",
        "        if name not in dist_map:\n",
        "            raise ValueError(f\"Unsupported distribution: {name}\")\n",
        "        return dist_map[name]()\n",
        "\n",
        "    def _generate_series(self, id_val: int, has_break: bool) -> Tuple[pd.DataFrame, bool]:\n",
        "        np.random.seed(self.seed + id_val)\n",
        "\n",
        "        length = np.random.randint(self.min_length, self.max_length + 1)\n",
        "        breakpoint = np.random.randint(length // 3, length - 10) if has_break else np.random.randint(length // 2, length)\n",
        "\n",
        "        # Randomly pick a base distribution\n",
        "        dist_name = np.random.choice(['normal', 't', 'exponential', 'binomial'])\n",
        "        base_params = {\n",
        "            'normal': {'loc': 0, 'scale': 1},\n",
        "            't': {'df': 5},\n",
        "            'exponential': {'scale': 1},\n",
        "            'binomial': {'n': 10, 'p': 0.5}\n",
        "        }[dist_name]\n",
        "\n",
        "        # Generate values\n",
        "        pre_values = self._random_distribution(dist_name, breakpoint, base_params)\n",
        "\n",
        "        if has_break:\n",
        "            # Change distribution parameters\n",
        "            changed_params = {\n",
        "                'normal': {'loc': 1, 'scale': 1.5},\n",
        "                't': {'df': 2},\n",
        "                'exponential': {'scale': 2},\n",
        "                'binomial': {'n': 10, 'p': 0.8}\n",
        "            }[dist_name]\n",
        "            post_values = self._random_distribution(dist_name, length - breakpoint, changed_params)\n",
        "        else:\n",
        "            post_values = self._random_distribution(dist_name, length - breakpoint, base_params)\n",
        "\n",
        "        values = np.concatenate([pre_values, post_values])\n",
        "        period = np.array([0]*breakpoint + [1]*(length - breakpoint))\n",
        "\n",
        "        df = pd.DataFrame({\n",
        "            'value': values,\n",
        "            'period': period\n",
        "        }, index=pd.MultiIndex.from_product([[id_val], range(length)], names=['id', 'time']))\n",
        "\n",
        "        return df, has_break\n",
        "\n",
        "    def generate(self) -> Tuple[pd.DataFrame, pd.Series]:\n",
        "        true_count = int(self.pct_true * self.n_series)\n",
        "        false_count = self.n_series - true_count\n",
        "        labels = [True]*true_count + [False]*false_count\n",
        "        np.random.shuffle(labels)\n",
        "\n",
        "        series_list = []\n",
        "        y_dict = {}\n",
        "\n",
        "        for id_val, has_break in enumerate(labels):\n",
        "            df, label = self._generate_series(id_val, has_break)\n",
        "            series_list.append(df)\n",
        "            y_dict[id_val] = label\n",
        "\n",
        "        X = pd.concat(series_list)\n",
        "        y = pd.Series(y_dict, name='structural_breakpoint')\n",
        "\n",
        "        return X, y\n",
        "\n",
        "class ETLPipeline(BaseModel):\n",
        "    X_train: pd.DataFrame\n",
        "    y_train: Optional[pd.Series] = pd.Series()\n",
        "\n",
        "    class Config:\n",
        "        arbitrary_types_allowed = True  # Allow non-pydantic types like pd.DataFrame\n",
        "\n",
        "    @field_validator('X_train')\n",
        "    def validate_X_train(cls, v):\n",
        "        if not isinstance(v.index, pd.MultiIndex):\n",
        "            raise ValueError(\"X_train must have a MultiIndex of ['id', 'time']\")\n",
        "        if 'value' not in v.columns or 'period' not in v.columns:\n",
        "            raise ValueError(\"X_train must contain 'value' and 'period' columns\")\n",
        "        return v\n",
        "\n",
        "    @field_validator('y_train')\n",
        "    def validate_y_train(cls, v):\n",
        "        if not isinstance(v, pd.Series):\n",
        "            raise ValueError(\"y_train must be a pandas Series\")\n",
        "        if v.dtype != 'bool':\n",
        "            raise ValueError(\"y_train must be of dtype 'bool'\")\n",
        "        return v\n",
        "\n",
        "    def get_ids(self) -> list:\n",
        "        \"\"\"Returns a list of all unique ids in the training set.\"\"\"\n",
        "        return list(self.X_train.index.get_level_values('id').unique())\n",
        "\n",
        "    def get_series_by_id(self, id_val: int) -> pd.DataFrame:\n",
        "        \"\"\"Returns the time series data for a specific id.\"\"\"\n",
        "        if (id_val not in self.y_train.index) & (len(self.y_train)>0):\n",
        "            raise ValueError(f\"id {id_val} not found in y_train\")\n",
        "        try:\n",
        "            return self.X_train.loc[id_val]\n",
        "        except KeyError:\n",
        "            raise ValueError(f\"id {id_val} not found in X_train\")\n",
        "\n",
        "    def get_target_by_id(self, id_val: int) -> bool:\n",
        "        \"\"\"Returns the target value for a specific id.\"\"\"\n",
        "        return self.y_train.loc[id_val]\n",
        "\n",
        "    def get_structural_breakdown(self) -> pd.Series:\n",
        "        \"\"\"Returns the proportion of True/False in y_train\"\"\"\n",
        "        return self.y_train.value_counts(normalize=True).rename(\"proportion\")\n",
        "\n",
        "class FeatureGenerator(BaseModel):\n",
        "    etl: ETLPipeline\n",
        "\n",
        "    class Config:\n",
        "        arbitrary_types_allowed = True\n",
        "\n",
        "    def extract_features_for_id_testing(self, id_val: int) -> Dict[str, Any]:\n",
        "        \"\"\"Extracts features for a single time series id\"\"\"\n",
        "\n",
        "        ts = self.etl.get_series_by_id(id_val)\n",
        "        # print(f\"id {id_val}, {id_change}\")\n",
        "\n",
        "        # Find index where period first changes from 0 to 1\n",
        "        change_indices = ts.index[ts['period'].diff() == 1].tolist()\n",
        "\n",
        "        if (not change_indices):\n",
        "            # No regime change occurred — use whole series\n",
        "            before = ts\n",
        "            after = ts # None\n",
        "            change_point = np.nan\n",
        "        else:\n",
        "            change_point = change_indices[0]\n",
        "            before = ts.loc[:change_point]\n",
        "            after = ts.loc[change_point + 1:] if change_point + 1 in ts.index else None\n",
        "\n",
        "        features = {\n",
        "            \"id\": id_val,\n",
        "            \"change_point_idx\": change_point if not np.isnan(change_point) else -1,\n",
        "            \"mean_before_change\": before['value'].mean(),\n",
        "            \"std_before_change\": before['value'].std(),\n",
        "            \"length_before_change\": len(before),\n",
        "            \"mean_after_change\": after['value'].mean() if after is not None else np.nan,\n",
        "            \"std_after_change\": after['value'].std() if after is not None else np.nan,\n",
        "            \"length_after_change\": len(after) if after is not None else 0,\n",
        "            # \"skew_before_change\": before['value'].skew(),\n",
        "            # \"skew_after_change\": after['value'].skew(),\n",
        "            # \"kurtosis_before_change\": before['value'].kurtosis(),\n",
        "            # \"kurtosis_after_change\": after['value'].kurtosis()\n",
        "        }\n",
        "\n",
        "        features[\"delta_mean\"] = (\n",
        "            features[\"mean_after_change\"] - features[\"mean_before_change\"]\n",
        "            if after is not None else np.nan\n",
        "        )\n",
        "\n",
        "        return features\n",
        "\n",
        "    def extract_features_for_id_training(self, id_val: int) -> Dict[str, Any]:\n",
        "        \"\"\"Extracts features for a single time series id\"\"\"\n",
        "\n",
        "        id_change = self.etl.y_train[id_val]\n",
        "        ts = self.etl.get_series_by_id(id_val)\n",
        "        # print(f\"id {id_val}, {id_change}\")\n",
        "\n",
        "        # Find index where period first changes from 0 to 1\n",
        "        change_indices = ts.index[ts['period'].diff() == 1].tolist()\n",
        "\n",
        "        if (not change_indices) | (not id_change):\n",
        "            # No regime change occurred — use whole series\n",
        "            before = ts\n",
        "            after = ts # None\n",
        "            change_point = np.nan\n",
        "        else:\n",
        "            change_point = change_indices[0]\n",
        "            before = ts.loc[:change_point]\n",
        "            after = ts.loc[change_point + 1:] if change_point + 1 in ts.index else None\n",
        "\n",
        "        features = {\n",
        "            \"id\": id_val,\n",
        "            \"change_point_idx\": change_point if not np.isnan(change_point) else -1,\n",
        "            \"mean_before_change\": before['value'].mean(),\n",
        "            \"std_before_change\": before['value'].std(),\n",
        "            \"length_before_change\": len(before),\n",
        "            \"mean_after_change\": after['value'].mean() if after is not None else np.nan,\n",
        "            \"std_after_change\": after['value'].std() if after is not None else np.nan,\n",
        "            \"length_after_change\": len(after) if after is not None else 0,\n",
        "            # \"skew_before_change\": before['value'].skew(),\n",
        "            # \"skew_after_change\": after['value'].skew(),\n",
        "            # \"kurtosis_before_change\": before['value'].kurtosis(),\n",
        "            # \"kurtosis_after_change\": after['value'].kurtosis()\n",
        "        }\n",
        "\n",
        "        features[\"delta_mean\"] = (\n",
        "            features[\"mean_after_change\"] - features[\"mean_before_change\"]\n",
        "            if after is not None else np.nan\n",
        "        )\n",
        "\n",
        "        return features\n",
        "\n",
        "    def generate_feature_dataframe(self) -> pd.DataFrame:\n",
        "        \"\"\"Generates features for all ids\"\"\"\n",
        "        all_ids = self.etl.get_ids()\n",
        "        feature_dicts = []\n",
        "\n",
        "        for id_val in all_ids:\n",
        "            try:\n",
        "              if len(self.etl.y_train)>0:\n",
        "                features = self.extract_features_for_id_training(id_val)\n",
        "                feature_dicts.append(features)\n",
        "              else:\n",
        "                features = self.extract_features_for_id_testing(id_val)\n",
        "                feature_dicts.append(features)\n",
        "            except Exception as e:\n",
        "                print(f\"Skipping id {id_val} due to error: {e}\")\n",
        "\n",
        "        return pd.DataFrame(feature_dicts).set_index(\"id\")\n",
        "\n",
        "class MLP(nn.Module):\n",
        "    def __init__(self, input_dim):\n",
        "        super().__init__()\n",
        "        self.net = nn.Sequential(\n",
        "            nn.Linear(input_dim, 64),\n",
        "            nn.ReLU(),\n",
        "            nn.Dropout(0.2),\n",
        "            nn.Linear(64, 1)\n",
        "        )\n",
        "\n",
        "    def forward(self, x):\n",
        "        return self.net(x).squeeze(1)\n",
        "\n",
        "class MLModelPipeline(BaseModel):\n",
        "    X: pd.DataFrame\n",
        "    y: pd.Series\n",
        "    X_train: Optional[pd.DataFrame] = None\n",
        "    y_train: Optional[pd.Series] = None\n",
        "    X_test: Optional[pd.DataFrame] = None\n",
        "    y_test: Optional[pd.Series] = None\n",
        "    model_name: str = Field(default=\"random_forest\")\n",
        "    model: Optional[Any] = None\n",
        "    test_size: float = 0.2\n",
        "    random_state: int = 42\n",
        "    device: str = Field(default=\"cuda\" if torch.cuda.is_available() else \"cpu\")\n",
        "\n",
        "    class Config:\n",
        "        arbitrary_types_allowed = True\n",
        "\n",
        "    @field_validator('X')\n",
        "    def validate_X(cls, v):\n",
        "        if not isinstance(v, pd.DataFrame):\n",
        "            raise ValueError(\"X must be a pandas DataFrame\")\n",
        "        return v\n",
        "\n",
        "    @field_validator('y')\n",
        "    def validate_y(cls, v):\n",
        "        if not isinstance(v, pd.Series):\n",
        "            raise ValueError(\"y must be a pandas Series\")\n",
        "        if v.dtype != bool:\n",
        "            raise ValueError(\"y must be a boolean Series\")\n",
        "        return v\n",
        "\n",
        "    def _initialize_model(self, input_dim: int = None):\n",
        "        if self.model_name == \"logistic_regression\":\n",
        "            return LogisticRegression(max_iter=1000)\n",
        "        elif self.model_name == \"random_forest\":\n",
        "            return RandomForestClassifier(n_estimators=1000)\n",
        "        elif self.model_name == \"xgboost\":\n",
        "            return xgb.XGBClassifier(use_label_encoder=False, eval_metric='logloss')\n",
        "        elif self.model_name == \"lightgbm\":\n",
        "            return lgb.LGBMClassifier()\n",
        "        elif self.model_name == \"mlp\":\n",
        "            if input_dim is None:\n",
        "                raise ValueError(\"input_dim required for MLP model\")\n",
        "            return MLP(input_dim).to(self.device)\n",
        "        else:\n",
        "            raise ValueError(f\"Unsupported model: {self.model_name}\")\n",
        "\n",
        "    def fit(self):\n",
        "        print(f\"Running model: {self.model_name}\")\n",
        "\n",
        "        # Align feature index with label index\n",
        "        X_aligned = self.X.loc[self.y.index.intersection(self.X.index)]\n",
        "        y_aligned = self.y.loc[X_aligned.index]\n",
        "\n",
        "        X_train, X_test, y_train, y_test = train_test_split(\n",
        "            X_aligned, y_aligned, test_size=self.test_size, random_state=self.random_state\n",
        "        )\n",
        "\n",
        "        self.X_train, self.X_test = X_train, X_test\n",
        "        self.y_train, self.y_test = y_train, y_test\n",
        "\n",
        "        if self.model_name == \"mlp\":\n",
        "            input_dim = X_train.shape[1]\n",
        "            self.model = self._initialize_model(input_dim)\n",
        "            self._train_mlp(X_train, y_train)\n",
        "        else:\n",
        "            self.model = self._initialize_model()\n",
        "            self.model.fit(X_train, y_train)\n",
        "\n",
        "    def _train_mlp(self, X_train: pd.DataFrame, y_train: pd.Series):\n",
        "        X_tensor = torch.tensor(X_train.values, dtype=torch.float32).to(self.device)\n",
        "        y_tensor = torch.tensor(y_train.values.astype(np.float32)).to(self.device)\n",
        "\n",
        "        dataset = TensorDataset(X_tensor, y_tensor)\n",
        "        dataloader = DataLoader(dataset, batch_size=64, shuffle=True)\n",
        "\n",
        "        optimizer = torch.optim.Adam(self.model.parameters(), lr=0.001)\n",
        "        self.model.train()\n",
        "\n",
        "        for epoch in range(30):  # small epochs for demo\n",
        "            for xb, yb in dataloader:\n",
        "                preds = self.model(xb)\n",
        "                loss = binary_cross_entropy_with_logits(preds, yb)\n",
        "                optimizer.zero_grad()\n",
        "                loss.backward()\n",
        "                optimizer.step()\n",
        "\n",
        "    def predict(self, X: Optional[pd.DataFrame] = None) -> np.ndarray:\n",
        "        if X is None:\n",
        "          X = self.X_test\n",
        "\n",
        "        if self.model_name == \"mlp\":\n",
        "            self.model.eval()\n",
        "            with torch.no_grad():\n",
        "                X_tensor = torch.tensor(X.values, dtype=torch.float32).to(self.device)\n",
        "                logits = self.model(X_tensor)\n",
        "                probs = torch.sigmoid(logits)\n",
        "                return (probs > 0.5).cpu().numpy()\n",
        "        else:\n",
        "            return self.model.predict(X)\n",
        "\n",
        "    def evaluate(self) -> Dict[str, Any]:\n",
        "        preds = self.predict()\n",
        "        if self.model_name == \"mlp\":\n",
        "            with torch.no_grad():\n",
        "                X_tensor = torch.tensor(self.X_test.values, dtype=torch.float32).to(self.device)\n",
        "                probs = torch.sigmoid(self.model(X_tensor)).cpu().numpy()\n",
        "        elif hasattr(self.model, \"predict_proba\"):\n",
        "            probs = self.model.predict_proba(self.X_test)[:, 1]\n",
        "        else:\n",
        "            probs = preds\n",
        "\n",
        "        report = classification_report(self.y_test, preds, output_dict=True)\n",
        "        auc = roc_auc_score(self.y_test, probs) if probs is not None else None\n",
        "\n",
        "        return {\n",
        "            \"classification_report\": report,\n",
        "            \"roc_auc\": auc,\n",
        "            \"model\": self.model_name,\n",
        "            \"probs\": probs\n",
        "        }"
      ],
      "metadata": {
        "id": "OoTNL1ardmjE"
      },
      "execution_count": null,
      "outputs": []
    },
    {
      "cell_type": "code",
      "execution_count": 5,
      "metadata": {
        "colab": {
          "base_uri": "https://localhost:8080/"
        },
        "id": "xjD_WSAS-0fR",
        "outputId": "170917c8-9906-464e-8ff0-b67a52cf6188"
      },
      "outputs": [
        {
          "output_type": "stream",
          "name": "stdout",
          "text": [
            "loaded inline runner with module: <module '__main__'>\n",
            "\n",
            "cli version: 6.4.4\n",
            "available ram: 12.67 gb\n",
            "available cpu: 2 core\n",
            "----\n"
          ]
        }
      ],
      "source": [
        "# Load the Crunch Toolings\n",
        "crunch = crunch.load_notebook()"
      ]
    },
    {
      "cell_type": "markdown",
      "metadata": {
        "id": "IiKJODFx-0fR"
      },
      "source": [
        "## Understanding the Data\n",
        "\n",
        "The dataset consists of univariate time series, each containing ~2,000-5,000 values with a designated boundary point. For each time series, you need to determine whether a structural break occurred at this boundary point.\n",
        "\n",
        "The data was downloaded when you setup your local environment and is now available in the `data/` directory."
      ]
    },
    {
      "cell_type": "code",
      "execution_count": 6,
      "metadata": {
        "colab": {
          "base_uri": "https://localhost:8080/"
        },
        "id": "RKHXgvjN-0fS",
        "outputId": "71c8f91b-86a4-4980-cd50-fe308fdfe6d1"
      },
      "outputs": [
        {
          "output_type": "stream",
          "name": "stdout",
          "text": [
            "data/X_train.parquet: download from https:crunchdao--competition--production.s3.eu-west-1.amazonaws.com/data-releases/146/X_train.parquet (204327238 bytes)\n",
            "data/X_train.parquet: already exists, file length match\n",
            "data/X_test.reduced.parquet: download from https:crunchdao--competition--production.s3.eu-west-1.amazonaws.com/data-releases/146/X_test.reduced.parquet (2380918 bytes)\n",
            "data/X_test.reduced.parquet: already exists, file length match\n",
            "data/y_train.parquet: download from https:crunchdao--competition--production.s3.eu-west-1.amazonaws.com/data-releases/146/y_train.parquet (61003 bytes)\n",
            "data/y_train.parquet: already exists, file length match\n",
            "data/y_test.reduced.parquet: download from https:crunchdao--competition--production.s3.eu-west-1.amazonaws.com/data-releases/146/y_test.reduced.parquet (2655 bytes)\n",
            "data/y_test.reduced.parquet: already exists, file length match\n"
          ]
        }
      ],
      "source": [
        "# Load the data simply\n",
        "X_train, y_train, X_test = crunch.load_data()"
      ]
    },
    {
      "cell_type": "markdown",
      "metadata": {
        "id": "7T_JmgMq-0fS"
      },
      "source": [
        "### Understanding `X_train`\n",
        "\n",
        "The training data is structured as a pandas DataFrame with a MultiIndex:\n",
        "\n",
        "**Index Levels:**\n",
        "- `id`: Identifies the unique time series\n",
        "- `time`: The timestep within each time series\n",
        "\n",
        "**Columns:**\n",
        "- `value`: The actual time series value at each timestep\n",
        "- `period`: A binary indicator where `0` represents the **period before** the boundary point, and `1` represents the **period after** the boundary point"
      ]
    },
    {
      "cell_type": "code",
      "execution_count": 7,
      "metadata": {
        "colab": {
          "base_uri": "https://localhost:8080/",
          "height": 174
        },
        "id": "0oRCTnOb-0fS",
        "outputId": "b32adb70-a0dd-4f65-dc70-bb252615cc44"
      },
      "outputs": [
        {
          "output_type": "execute_result",
          "data": {
            "text/plain": [
              "               value  period\n",
              "id    time                  \n",
              "10000 2136  0.000687       1\n",
              "      2137  0.001640       1\n",
              "      2138  0.001074       1"
            ],
            "text/html": [
              "\n",
              "  <div id=\"df-319a2e9a-3ef1-4c06-baa6-e2c0395c9bb6\" class=\"colab-df-container\">\n",
              "    <div>\n",
              "<style scoped>\n",
              "    .dataframe tbody tr th:only-of-type {\n",
              "        vertical-align: middle;\n",
              "    }\n",
              "\n",
              "    .dataframe tbody tr th {\n",
              "        vertical-align: top;\n",
              "    }\n",
              "\n",
              "    .dataframe thead th {\n",
              "        text-align: right;\n",
              "    }\n",
              "</style>\n",
              "<table border=\"1\" class=\"dataframe\">\n",
              "  <thead>\n",
              "    <tr style=\"text-align: right;\">\n",
              "      <th></th>\n",
              "      <th></th>\n",
              "      <th>value</th>\n",
              "      <th>period</th>\n",
              "    </tr>\n",
              "    <tr>\n",
              "      <th>id</th>\n",
              "      <th>time</th>\n",
              "      <th></th>\n",
              "      <th></th>\n",
              "    </tr>\n",
              "  </thead>\n",
              "  <tbody>\n",
              "    <tr>\n",
              "      <th rowspan=\"3\" valign=\"top\">10000</th>\n",
              "      <th>2136</th>\n",
              "      <td>0.000687</td>\n",
              "      <td>1</td>\n",
              "    </tr>\n",
              "    <tr>\n",
              "      <th>2137</th>\n",
              "      <td>0.001640</td>\n",
              "      <td>1</td>\n",
              "    </tr>\n",
              "    <tr>\n",
              "      <th>2138</th>\n",
              "      <td>0.001074</td>\n",
              "      <td>1</td>\n",
              "    </tr>\n",
              "  </tbody>\n",
              "</table>\n",
              "</div>\n",
              "    <div class=\"colab-df-buttons\">\n",
              "\n",
              "  <div class=\"colab-df-container\">\n",
              "    <button class=\"colab-df-convert\" onclick=\"convertToInteractive('df-319a2e9a-3ef1-4c06-baa6-e2c0395c9bb6')\"\n",
              "            title=\"Convert this dataframe to an interactive table.\"\n",
              "            style=\"display:none;\">\n",
              "\n",
              "  <svg xmlns=\"http://www.w3.org/2000/svg\" height=\"24px\" viewBox=\"0 -960 960 960\">\n",
              "    <path d=\"M120-120v-720h720v720H120Zm60-500h600v-160H180v160Zm220 220h160v-160H400v160Zm0 220h160v-160H400v160ZM180-400h160v-160H180v160Zm440 0h160v-160H620v160ZM180-180h160v-160H180v160Zm440 0h160v-160H620v160Z\"/>\n",
              "  </svg>\n",
              "    </button>\n",
              "\n",
              "  <style>\n",
              "    .colab-df-container {\n",
              "      display:flex;\n",
              "      gap: 12px;\n",
              "    }\n",
              "\n",
              "    .colab-df-convert {\n",
              "      background-color: #E8F0FE;\n",
              "      border: none;\n",
              "      border-radius: 50%;\n",
              "      cursor: pointer;\n",
              "      display: none;\n",
              "      fill: #1967D2;\n",
              "      height: 32px;\n",
              "      padding: 0 0 0 0;\n",
              "      width: 32px;\n",
              "    }\n",
              "\n",
              "    .colab-df-convert:hover {\n",
              "      background-color: #E2EBFA;\n",
              "      box-shadow: 0px 1px 2px rgba(60, 64, 67, 0.3), 0px 1px 3px 1px rgba(60, 64, 67, 0.15);\n",
              "      fill: #174EA6;\n",
              "    }\n",
              "\n",
              "    .colab-df-buttons div {\n",
              "      margin-bottom: 4px;\n",
              "    }\n",
              "\n",
              "    [theme=dark] .colab-df-convert {\n",
              "      background-color: #3B4455;\n",
              "      fill: #D2E3FC;\n",
              "    }\n",
              "\n",
              "    [theme=dark] .colab-df-convert:hover {\n",
              "      background-color: #434B5C;\n",
              "      box-shadow: 0px 1px 3px 1px rgba(0, 0, 0, 0.15);\n",
              "      filter: drop-shadow(0px 1px 2px rgba(0, 0, 0, 0.3));\n",
              "      fill: #FFFFFF;\n",
              "    }\n",
              "  </style>\n",
              "\n",
              "    <script>\n",
              "      const buttonEl =\n",
              "        document.querySelector('#df-319a2e9a-3ef1-4c06-baa6-e2c0395c9bb6 button.colab-df-convert');\n",
              "      buttonEl.style.display =\n",
              "        google.colab.kernel.accessAllowed ? 'block' : 'none';\n",
              "\n",
              "      async function convertToInteractive(key) {\n",
              "        const element = document.querySelector('#df-319a2e9a-3ef1-4c06-baa6-e2c0395c9bb6');\n",
              "        const dataTable =\n",
              "          await google.colab.kernel.invokeFunction('convertToInteractive',\n",
              "                                                    [key], {});\n",
              "        if (!dataTable) return;\n",
              "\n",
              "        const docLinkHtml = 'Like what you see? Visit the ' +\n",
              "          '<a target=\"_blank\" href=https://colab.research.google.com/notebooks/data_table.ipynb>data table notebook</a>'\n",
              "          + ' to learn more about interactive tables.';\n",
              "        element.innerHTML = '';\n",
              "        dataTable['output_type'] = 'display_data';\n",
              "        await google.colab.output.renderOutput(dataTable, element);\n",
              "        const docLink = document.createElement('div');\n",
              "        docLink.innerHTML = docLinkHtml;\n",
              "        element.appendChild(docLink);\n",
              "      }\n",
              "    </script>\n",
              "  </div>\n",
              "\n",
              "\n",
              "    <div id=\"df-519687e4-996b-4b8f-9f26-1cd28f8c1fe2\">\n",
              "      <button class=\"colab-df-quickchart\" onclick=\"quickchart('df-519687e4-996b-4b8f-9f26-1cd28f8c1fe2')\"\n",
              "                title=\"Suggest charts\"\n",
              "                style=\"display:none;\">\n",
              "\n",
              "<svg xmlns=\"http://www.w3.org/2000/svg\" height=\"24px\"viewBox=\"0 0 24 24\"\n",
              "     width=\"24px\">\n",
              "    <g>\n",
              "        <path d=\"M19 3H5c-1.1 0-2 .9-2 2v14c0 1.1.9 2 2 2h14c1.1 0 2-.9 2-2V5c0-1.1-.9-2-2-2zM9 17H7v-7h2v7zm4 0h-2V7h2v10zm4 0h-2v-4h2v4z\"/>\n",
              "    </g>\n",
              "</svg>\n",
              "      </button>\n",
              "\n",
              "<style>\n",
              "  .colab-df-quickchart {\n",
              "      --bg-color: #E8F0FE;\n",
              "      --fill-color: #1967D2;\n",
              "      --hover-bg-color: #E2EBFA;\n",
              "      --hover-fill-color: #174EA6;\n",
              "      --disabled-fill-color: #AAA;\n",
              "      --disabled-bg-color: #DDD;\n",
              "  }\n",
              "\n",
              "  [theme=dark] .colab-df-quickchart {\n",
              "      --bg-color: #3B4455;\n",
              "      --fill-color: #D2E3FC;\n",
              "      --hover-bg-color: #434B5C;\n",
              "      --hover-fill-color: #FFFFFF;\n",
              "      --disabled-bg-color: #3B4455;\n",
              "      --disabled-fill-color: #666;\n",
              "  }\n",
              "\n",
              "  .colab-df-quickchart {\n",
              "    background-color: var(--bg-color);\n",
              "    border: none;\n",
              "    border-radius: 50%;\n",
              "    cursor: pointer;\n",
              "    display: none;\n",
              "    fill: var(--fill-color);\n",
              "    height: 32px;\n",
              "    padding: 0;\n",
              "    width: 32px;\n",
              "  }\n",
              "\n",
              "  .colab-df-quickchart:hover {\n",
              "    background-color: var(--hover-bg-color);\n",
              "    box-shadow: 0 1px 2px rgba(60, 64, 67, 0.3), 0 1px 3px 1px rgba(60, 64, 67, 0.15);\n",
              "    fill: var(--button-hover-fill-color);\n",
              "  }\n",
              "\n",
              "  .colab-df-quickchart-complete:disabled,\n",
              "  .colab-df-quickchart-complete:disabled:hover {\n",
              "    background-color: var(--disabled-bg-color);\n",
              "    fill: var(--disabled-fill-color);\n",
              "    box-shadow: none;\n",
              "  }\n",
              "\n",
              "  .colab-df-spinner {\n",
              "    border: 2px solid var(--fill-color);\n",
              "    border-color: transparent;\n",
              "    border-bottom-color: var(--fill-color);\n",
              "    animation:\n",
              "      spin 1s steps(1) infinite;\n",
              "  }\n",
              "\n",
              "  @keyframes spin {\n",
              "    0% {\n",
              "      border-color: transparent;\n",
              "      border-bottom-color: var(--fill-color);\n",
              "      border-left-color: var(--fill-color);\n",
              "    }\n",
              "    20% {\n",
              "      border-color: transparent;\n",
              "      border-left-color: var(--fill-color);\n",
              "      border-top-color: var(--fill-color);\n",
              "    }\n",
              "    30% {\n",
              "      border-color: transparent;\n",
              "      border-left-color: var(--fill-color);\n",
              "      border-top-color: var(--fill-color);\n",
              "      border-right-color: var(--fill-color);\n",
              "    }\n",
              "    40% {\n",
              "      border-color: transparent;\n",
              "      border-right-color: var(--fill-color);\n",
              "      border-top-color: var(--fill-color);\n",
              "    }\n",
              "    60% {\n",
              "      border-color: transparent;\n",
              "      border-right-color: var(--fill-color);\n",
              "    }\n",
              "    80% {\n",
              "      border-color: transparent;\n",
              "      border-right-color: var(--fill-color);\n",
              "      border-bottom-color: var(--fill-color);\n",
              "    }\n",
              "    90% {\n",
              "      border-color: transparent;\n",
              "      border-bottom-color: var(--fill-color);\n",
              "    }\n",
              "  }\n",
              "</style>\n",
              "\n",
              "      <script>\n",
              "        async function quickchart(key) {\n",
              "          const quickchartButtonEl =\n",
              "            document.querySelector('#' + key + ' button');\n",
              "          quickchartButtonEl.disabled = true;  // To prevent multiple clicks.\n",
              "          quickchartButtonEl.classList.add('colab-df-spinner');\n",
              "          try {\n",
              "            const charts = await google.colab.kernel.invokeFunction(\n",
              "                'suggestCharts', [key], {});\n",
              "          } catch (error) {\n",
              "            console.error('Error during call to suggestCharts:', error);\n",
              "          }\n",
              "          quickchartButtonEl.classList.remove('colab-df-spinner');\n",
              "          quickchartButtonEl.classList.add('colab-df-quickchart-complete');\n",
              "        }\n",
              "        (() => {\n",
              "          let quickchartButtonEl =\n",
              "            document.querySelector('#df-519687e4-996b-4b8f-9f26-1cd28f8c1fe2 button');\n",
              "          quickchartButtonEl.style.display =\n",
              "            google.colab.kernel.accessAllowed ? 'block' : 'none';\n",
              "        })();\n",
              "      </script>\n",
              "    </div>\n",
              "\n",
              "    </div>\n",
              "  </div>\n"
            ],
            "application/vnd.google.colaboratory.intrinsic+json": {
              "type": "dataframe",
              "summary": "{\n  \"name\": \"X_train\",\n  \"rows\": 3,\n  \"fields\": [\n    {\n      \"column\": \"value\",\n      \"properties\": {\n        \"dtype\": \"number\",\n        \"std\": 0.0004793300461375966,\n        \"min\": 0.000686574213142556,\n        \"max\": 0.0016396918105747176,\n        \"num_unique_values\": 3,\n        \"samples\": [\n          0.000686574213142556,\n          0.0016396918105747176,\n          0.0010739869884494597\n        ],\n        \"semantic_type\": \"\",\n        \"description\": \"\"\n      }\n    },\n    {\n      \"column\": \"period\",\n      \"properties\": {\n        \"dtype\": \"number\",\n        \"std\": 0,\n        \"min\": 1,\n        \"max\": 1,\n        \"num_unique_values\": 1,\n        \"samples\": [\n          1\n        ],\n        \"semantic_type\": \"\",\n        \"description\": \"\"\n      }\n    }\n  ]\n}"
            }
          },
          "metadata": {},
          "execution_count": 7
        }
      ],
      "source": [
        "X_train.tail(3)"
      ]
    },
    {
      "cell_type": "markdown",
      "metadata": {
        "id": "6WP39dgx-0fS"
      },
      "source": [
        "### Understanding `y_train`\n",
        "\n",
        "This is a simple `pandas.Series` that tells if a dataset id has a structural breakpoint or not.\n",
        "\n",
        "**Index:**\n",
        "- `id`: the ID of the dataset\n",
        "\n",
        "**Value:**\n",
        "- `structural_breakpoint`: Boolean indicating whether a structural break occurred (`True`) or not (`False`)"
      ]
    },
    {
      "cell_type": "code",
      "execution_count": 8,
      "metadata": {
        "colab": {
          "base_uri": "https://localhost:8080/",
          "height": 209
        },
        "id": "dPsQPdIj-0fT",
        "outputId": "48872480-34e6-49f3-846b-de9928ab3b0c"
      },
      "outputs": [
        {
          "output_type": "execute_result",
          "data": {
            "text/plain": [
              "id\n",
              "9998     False\n",
              "9999     False\n",
              "10000     True\n",
              "Name: structural_breakpoint, dtype: bool"
            ],
            "text/html": [
              "<div>\n",
              "<style scoped>\n",
              "    .dataframe tbody tr th:only-of-type {\n",
              "        vertical-align: middle;\n",
              "    }\n",
              "\n",
              "    .dataframe tbody tr th {\n",
              "        vertical-align: top;\n",
              "    }\n",
              "\n",
              "    .dataframe thead th {\n",
              "        text-align: right;\n",
              "    }\n",
              "</style>\n",
              "<table border=\"1\" class=\"dataframe\">\n",
              "  <thead>\n",
              "    <tr style=\"text-align: right;\">\n",
              "      <th></th>\n",
              "      <th>structural_breakpoint</th>\n",
              "    </tr>\n",
              "    <tr>\n",
              "      <th>id</th>\n",
              "      <th></th>\n",
              "    </tr>\n",
              "  </thead>\n",
              "  <tbody>\n",
              "    <tr>\n",
              "      <th>9998</th>\n",
              "      <td>False</td>\n",
              "    </tr>\n",
              "    <tr>\n",
              "      <th>9999</th>\n",
              "      <td>False</td>\n",
              "    </tr>\n",
              "    <tr>\n",
              "      <th>10000</th>\n",
              "      <td>True</td>\n",
              "    </tr>\n",
              "  </tbody>\n",
              "</table>\n",
              "</div><br><label><b>dtype:</b> bool</label>"
            ]
          },
          "metadata": {},
          "execution_count": 8
        }
      ],
      "source": [
        "y_train.tail(3)"
      ]
    },
    {
      "cell_type": "markdown",
      "metadata": {
        "id": "2oSS08Ks-0fT"
      },
      "source": [
        "### Understanding `X_test`\n",
        "\n",
        "The test data is provided as a **`list` of `pandas.DataFrame`s** with the same format as [`X_train`](#understanding-X_test).\n",
        "\n",
        "It is structured as a list to encourage processing records one by one, which will be mandatory in the `infer()` function."
      ]
    },
    {
      "cell_type": "code",
      "execution_count": 12,
      "metadata": {
        "colab": {
          "base_uri": "https://localhost:8080/",
          "height": 145
        },
        "id": "8ErbKAs--0fT",
        "outputId": "bb94bca0-9a22-4147-c82e-471f70ef0543"
      },
      "outputs": [
        {
          "output_type": "display_data",
          "data": {
            "text/plain": [
              "Number of datasets: \u001b[1;36m101\u001b[0m\n"
            ],
            "text/html": [
              "<pre style=\"white-space:pre;overflow-x:auto;line-height:normal;font-family:Menlo,'DejaVu Sans Mono',consolas,'Courier New',monospace\">Number of datasets: <span style=\"color: #008080; text-decoration-color: #008080; font-weight: bold\">101</span>\n",
              "</pre>\n"
            ]
          },
          "metadata": {}
        },
        {
          "output_type": "display_data",
          "data": {
            "text/plain": [
              "               value  period\n",
              "id    time                  \n",
              "\u001b[1;36m10001\u001b[0m \u001b[1;36m2774\u001b[0m \u001b[1;36m-0.013937\u001b[0m       \u001b[1;36m1\u001b[0m\n",
              "      \u001b[1;36m2775\u001b[0m \u001b[1;36m-0.015649\u001b[0m       \u001b[1;36m1\u001b[0m\n",
              "      \u001b[1;36m2776\u001b[0m \u001b[1;36m-0.009744\u001b[0m       \u001b[1;36m1\u001b[0m\n",
              "      \u001b[1;36m2777\u001b[0m  \u001b[1;36m0.025375\u001b[0m       \u001b[1;36m1\u001b[0m\n",
              "      \u001b[1;36m2778\u001b[0m \u001b[1;36m-0.001515\u001b[0m       \u001b[1;36m1\u001b[0m\n"
            ],
            "text/html": [
              "<pre style=\"white-space:pre;overflow-x:auto;line-height:normal;font-family:Menlo,'DejaVu Sans Mono',consolas,'Courier New',monospace\">               value  period\n",
              "id    time                  \n",
              "<span style=\"color: #008080; text-decoration-color: #008080; font-weight: bold\">10001</span> <span style=\"color: #008080; text-decoration-color: #008080; font-weight: bold\">2774</span> <span style=\"color: #008080; text-decoration-color: #008080; font-weight: bold\">-0.013937</span>       <span style=\"color: #008080; text-decoration-color: #008080; font-weight: bold\">1</span>\n",
              "      <span style=\"color: #008080; text-decoration-color: #008080; font-weight: bold\">2775</span> <span style=\"color: #008080; text-decoration-color: #008080; font-weight: bold\">-0.015649</span>       <span style=\"color: #008080; text-decoration-color: #008080; font-weight: bold\">1</span>\n",
              "      <span style=\"color: #008080; text-decoration-color: #008080; font-weight: bold\">2776</span> <span style=\"color: #008080; text-decoration-color: #008080; font-weight: bold\">-0.009744</span>       <span style=\"color: #008080; text-decoration-color: #008080; font-weight: bold\">1</span>\n",
              "      <span style=\"color: #008080; text-decoration-color: #008080; font-weight: bold\">2777</span>  <span style=\"color: #008080; text-decoration-color: #008080; font-weight: bold\">0.025375</span>       <span style=\"color: #008080; text-decoration-color: #008080; font-weight: bold\">1</span>\n",
              "      <span style=\"color: #008080; text-decoration-color: #008080; font-weight: bold\">2778</span> <span style=\"color: #008080; text-decoration-color: #008080; font-weight: bold\">-0.001515</span>       <span style=\"color: #008080; text-decoration-color: #008080; font-weight: bold\">1</span>\n",
              "</pre>\n"
            ]
          },
          "metadata": {}
        }
      ],
      "source": [
        "print(\"Number of datasets:\", len(X_test))\n",
        "print(X_test[0].tail())"
      ]
    },
    {
      "cell_type": "markdown",
      "metadata": {
        "id": "YgulFOGX-0fT"
      },
      "source": [
        "## Strategy Implementation\n",
        "\n",
        "There are multiple approaches you can take to detect structural breaks:\n",
        "\n",
        "1. **Statistical Tests**: Compare distributions before and after the boundary point;\n",
        "2. **Feature Engineering**: Extract features from both segments for comparison;\n",
        "3. **Time Series Modeling**: Detect deviations from expected patterns;\n",
        "4. **Machine Learning**: Train models to recognize break patterns from labeled examples.\n",
        "\n",
        "The baseline implementation below uses a simple statistical approach: a t-test to compare the distributions before and after the boundary point."
      ]
    },
    {
      "cell_type": "markdown",
      "metadata": {
        "id": "wLfYIXlz-0fT"
      },
      "source": [
        "### The `train()` Function\n",
        "\n",
        "In this function, you build and train your model for making inferences on the test data. Your model must be stored in the `model_directory_path`.\n",
        "\n",
        "The baseline implementation below doesn't require a pre-trained model, as it uses a statistical test that will be computed at inference time."
      ]
    },
    {
      "cell_type": "code",
      "execution_count": 13,
      "metadata": {
        "ExecuteTime": {
          "end_time": "2024-11-18T10:04:00.459399Z",
          "start_time": "2024-11-18T10:04:00.455716Z"
        },
        "id": "xQwWDC6M-0fT"
      },
      "outputs": [],
      "source": [
        "def train(\n",
        "    X_train: pd.DataFrame,\n",
        "    y_train: pd.Series,\n",
        "    model_directory_path: str,\n",
        "):\n",
        "    # For our baseline t-test approach, we don't need to train a model\n",
        "    # This is essentially an unsupervised approach calculated at inference time\n",
        "    model = None\n",
        "\n",
        "    # You could enhance this by training an actual model, for example:\n",
        "    # 1. Extract features from before/after segments of each time series\n",
        "    # 2. Train a classifier using these features and y_train labels\n",
        "    # 3. Save the trained model\n",
        "\n",
        "    joblib.dump(model, os.path.join(model_directory_path, 'model.joblib'))"
      ]
    },
    {
      "cell_type": "markdown",
      "metadata": {
        "id": "7n-jboJH-0fU"
      },
      "source": [
        "### The `infer()` Function\n",
        "\n",
        "In the inference function, your trained model (if any) is loaded and used to make predictions on test data.\n",
        "\n",
        "**Important workflow:**\n",
        "1. Load your model;\n",
        "2. Use the `yield` statement to signal readiness to the runner;\n",
        "3. Process each dataset one by one within the for loop;\n",
        "4. For each dataset, use `yield prediction` to return your prediction.\n",
        "\n",
        "**Note:** The datasets can only be iterated once!"
      ]
    },
    {
      "cell_type": "code",
      "execution_count": 14,
      "metadata": {
        "ExecuteTime": {
          "end_time": "2024-11-18T10:03:59.120294Z",
          "start_time": "2024-11-18T10:03:59.114830Z"
        },
        "id": "r1b7hRkl-0fU"
      },
      "outputs": [],
      "source": [
        "def infer(\n",
        "    X_test: typing.Iterable[pd.DataFrame],\n",
        "    model_directory_path: str,\n",
        "):\n",
        "    model = joblib.load(os.path.join(model_directory_path, 'model.joblib'))\n",
        "\n",
        "    yield  # Mark as ready\n",
        "\n",
        "    # X_test can only be iterated once.\n",
        "    # Before getting the next dataset, you must predict the current one.\n",
        "    for dataset in X_test:\n",
        "        # Baseline approach: Compute t-test between values before and after boundary point\n",
        "        # The negative p-value is used as our score - smaller p-values (larger negative numbers)\n",
        "        # indicate more evidence against the null hypothesis that distributions are the same,\n",
        "        # suggesting a structural break\n",
        "        def t_test(u: pd.DataFrame):\n",
        "            return -scipy.stats.ttest_ind(\n",
        "                u[\"value\"][u[\"period\"] == 0],  # Values before boundary point\n",
        "                u[\"value\"][u[\"period\"] == 1],  # Values after boundary point\n",
        "            ).pvalue\n",
        "\n",
        "        prediction = t_test(dataset)\n",
        "        yield prediction  # Send the prediction for the current dataset\n",
        "\n",
        "        # Note: This baseline approach uses a t-test to compare the distributions\n",
        "        # before and after the boundary point. A smaller p-value (larger negative number)\n",
        "        # suggests stronger evidence that the distributions are different,\n",
        "        # indicating a potential structural break."
      ]
    },
    {
      "cell_type": "markdown",
      "metadata": {
        "id": "1W0Kl9CA-0fU"
      },
      "source": [
        "## Local testing\n",
        "\n",
        "To make sure your `train()` and `infer()` function are working properly, you can call the `crunch.test()` function that will reproduce the cloud environment locally. <br />\n",
        "Even if it is not perfect, it should give you a quick idea if your model is working properly."
      ]
    },
    {
      "cell_type": "code",
      "execution_count": 88,
      "metadata": {
        "colab": {
          "base_uri": "https://localhost:8080/",
          "height": 583
        },
        "id": "tDZeP-4--0fU",
        "outputId": "9219995a-d89c-4d15-cb2f-f569e5ebd5a9"
      },
      "outputs": [
        {
          "output_type": "stream",
          "name": "stdout",
          "text": [
            "ignoring cell #64: '(' was never closed (<unknown>, line 6)\n"
          ]
        },
        {
          "output_type": "stream",
          "name": "stderr",
          "text": [
            "18:57:27 no forbidden library found\n",
            "18:57:27 \n",
            "18:57:28 started\n",
            "18:57:28 running local test\n",
            "18:57:28 internet access isn't restricted, no check will be done\n",
            "18:57:28 \n",
            "18:57:30 starting unstructured loop...\n",
            "18:57:30 executing - command=train\n"
          ]
        },
        {
          "output_type": "stream",
          "name": "stdout",
          "text": [
            "data/X_train.parquet: download from https:crunchdao--competition--production.s3.eu-west-1.amazonaws.com/data-releases/146/X_train.parquet (204327238 bytes)\n",
            "data/X_train.parquet: already exists, file length match\n",
            "data/X_test.reduced.parquet: download from https:crunchdao--competition--production.s3.eu-west-1.amazonaws.com/data-releases/146/X_test.reduced.parquet (2380918 bytes)\n",
            "data/X_test.reduced.parquet: already exists, file length match\n",
            "data/y_train.parquet: download from https:crunchdao--competition--production.s3.eu-west-1.amazonaws.com/data-releases/146/y_train.parquet (61003 bytes)\n",
            "data/y_train.parquet: already exists, file length match\n",
            "data/y_test.reduced.parquet: download from https:crunchdao--competition--production.s3.eu-west-1.amazonaws.com/data-releases/146/y_test.reduced.parquet (2655 bytes)\n",
            "data/y_test.reduced.parquet: already exists, file length match\n"
          ]
        },
        {
          "output_type": "display_data",
          "data": {
            "text/plain": [
              "Running model: random_forest\n"
            ],
            "text/html": [
              "<pre style=\"white-space:pre;overflow-x:auto;line-height:normal;font-family:Menlo,'DejaVu Sans Mono',consolas,'Courier New',monospace\">Running model: random_forest\n",
              "</pre>\n"
            ]
          },
          "metadata": {}
        },
        {
          "output_type": "display_data",
          "data": {
            "text/plain": [
              "Saving model in: resources\n"
            ],
            "text/html": [
              "<pre style=\"white-space:pre;overflow-x:auto;line-height:normal;font-family:Menlo,'DejaVu Sans Mono',consolas,'Courier New',monospace\">Saving model in: resources\n",
              "</pre>\n"
            ]
          },
          "metadata": {}
        },
        {
          "output_type": "display_data",
          "data": {
            "text/plain": [
              "Model type: \u001b[1m<\u001b[0m\u001b[1;95mclass\u001b[0m\u001b[39m \u001b[0m\u001b[32m'__main__.MLModelPipeline'\u001b[0m\u001b[1m>\u001b[0m\n"
            ],
            "text/html": [
              "<pre style=\"white-space:pre;overflow-x:auto;line-height:normal;font-family:Menlo,'DejaVu Sans Mono',consolas,'Courier New',monospace\">Model type: <span style=\"font-weight: bold\">&lt;</span><span style=\"color: #ff00ff; text-decoration-color: #ff00ff; font-weight: bold\">class</span><span style=\"color: #000000; text-decoration-color: #000000\"> </span><span style=\"color: #008000; text-decoration-color: #008000\">'__main__.MLModelPipeline'</span><span style=\"font-weight: bold\">&gt;</span>\n",
              "</pre>\n"
            ]
          },
          "metadata": {}
        },
        {
          "output_type": "stream",
          "name": "stderr",
          "text": [
            "18:57:46 executing - command=infer\n"
          ]
        },
        {
          "output_type": "display_data",
          "data": {
            "text/plain": [
              "Reading model from: resources\n"
            ],
            "text/html": [
              "<pre style=\"white-space:pre;overflow-x:auto;line-height:normal;font-family:Menlo,'DejaVu Sans Mono',consolas,'Courier New',monospace\">Reading model from: resources\n",
              "</pre>\n"
            ]
          },
          "metadata": {}
        },
        {
          "output_type": "display_data",
          "data": {
            "text/plain": [
              "Model type: \u001b[1m<\u001b[0m\u001b[1;95mclass\u001b[0m\u001b[39m \u001b[0m\u001b[32m'__main__.MLModelPipeline'\u001b[0m\u001b[1m>\u001b[0m\n"
            ],
            "text/html": [
              "<pre style=\"white-space:pre;overflow-x:auto;line-height:normal;font-family:Menlo,'DejaVu Sans Mono',consolas,'Courier New',monospace\">Model type: <span style=\"font-weight: bold\">&lt;</span><span style=\"color: #ff00ff; text-decoration-color: #ff00ff; font-weight: bold\">class</span><span style=\"color: #000000; text-decoration-color: #000000\"> </span><span style=\"color: #008000; text-decoration-color: #008000\">'__main__.MLModelPipeline'</span><span style=\"font-weight: bold\">&gt;</span>\n",
              "</pre>\n"
            ]
          },
          "metadata": {}
        },
        {
          "output_type": "stream",
          "name": "stderr",
          "text": [
            "18:57:55 checking determinism by executing the inference again with 30% of the data (tolerance: 1e-08)\n",
            "18:57:55 executing - command=infer\n"
          ]
        },
        {
          "output_type": "display_data",
          "data": {
            "text/plain": [
              "Reading model from: resources\n"
            ],
            "text/html": [
              "<pre style=\"white-space:pre;overflow-x:auto;line-height:normal;font-family:Menlo,'DejaVu Sans Mono',consolas,'Courier New',monospace\">Reading model from: resources\n",
              "</pre>\n"
            ]
          },
          "metadata": {}
        },
        {
          "output_type": "display_data",
          "data": {
            "text/plain": [
              "Model type: \u001b[1m<\u001b[0m\u001b[1;95mclass\u001b[0m\u001b[39m \u001b[0m\u001b[32m'__main__.MLModelPipeline'\u001b[0m\u001b[1m>\u001b[0m\n"
            ],
            "text/html": [
              "<pre style=\"white-space:pre;overflow-x:auto;line-height:normal;font-family:Menlo,'DejaVu Sans Mono',consolas,'Courier New',monospace\">Model type: <span style=\"font-weight: bold\">&lt;</span><span style=\"color: #ff00ff; text-decoration-color: #ff00ff; font-weight: bold\">class</span><span style=\"color: #000000; text-decoration-color: #000000\"> </span><span style=\"color: #008000; text-decoration-color: #008000\">'__main__.MLModelPipeline'</span><span style=\"font-weight: bold\">&gt;</span>\n",
              "</pre>\n"
            ]
          },
          "metadata": {}
        },
        {
          "output_type": "stream",
          "name": "stderr",
          "text": [
            "18:57:57 determinism check: passed\n",
            "18:57:57 save prediction - path=data/prediction.parquet\n",
            "18:57:57 ended\n",
            "18:57:57 duration - time=00:00:29\n",
            "18:57:57 memory - before=\"1.41 GB\" after=\"1.42 GB\" consumed=\"11.8 MB\"\n"
          ]
        }
      ],
      "source": [
        "crunch.test(\n",
        "    # Uncomment to disable the train\n",
        "    # force_first_train=False,\n",
        "\n",
        "    # Uncomment to disable the determinism check\n",
        "    # no_determinism_check=True,\n",
        ")"
      ]
    },
    {
      "cell_type": "code",
      "source": [],
      "metadata": {
        "id": "SbjK3scVgTGS"
      },
      "execution_count": 81,
      "outputs": []
    },
    {
      "cell_type": "code",
      "source": [
        "def train(\n",
        "    X_train: pd.DataFrame,\n",
        "    y_train: pd.Series,\n",
        "    model_directory_path: str,\n",
        "    model_name: Optional[str] = \"random_forest\"\n",
        "):\n",
        "    # For our baseline t-test approach, we don't need to train a model\n",
        "    # This is essentially an unsupervised approach calculated at inference time\n",
        "    etl = ETLPipeline(X_train=X_train, y_train=y_train)\n",
        "    generator = FeatureGenerator(etl=etl)\n",
        "    X_features = generator.generate_feature_dataframe()\n",
        "\n",
        "    # Find rows without NaN values\n",
        "    valid_index = X_features.loc[~X_features.isna().any(axis=1)].index\n",
        "    X = X_features.loc[valid_index]\n",
        "    y = etl.y_train[valid_index]\n",
        "\n",
        "    model = MLModelPipeline(X=X, y=y, model_name=model_name)  # \"logistic_regression\", \"random_forest\", \"xgboost\", \"lightgbm\", \"mlp\"\n",
        "    model.fit()\n",
        "    # model = None\n",
        "\n",
        "    # You could enhance this by training an actual model, for example:\n",
        "    # 1. Extract features from before/after segments of each time series\n",
        "    # 2. Train a classifier using these features and y_train labels\n",
        "    # 3. Save the trained model\n",
        "\n",
        "    print(f\"Saving model in: {model_directory_path}\")\n",
        "    print(f\"Model type: {type(model)}\")\n",
        "    joblib.dump(model, os.path.join(model_directory_path, 'model.joblib'))\n",
        "\n",
        "def infer(\n",
        "    X_test: typing.Iterable[pd.DataFrame],\n",
        "    model_directory_path: str,\n",
        "):\n",
        "    print(f\"Reading model from: {model_directory_path}\")\n",
        "    model = joblib.load(os.path.join(model_directory_path, 'model.joblib'))\n",
        "    print(f\"Model type: {type(model)}\")\n",
        "\n",
        "    yield  # Mark as ready\n",
        "\n",
        "    # X_test can only be iterated once.\n",
        "    # Before getting the next dataset, you must predict the current one.\n",
        "    for dataset in X_test:\n",
        "        etl = ETLPipeline(X_train=dataset)\n",
        "        generator = FeatureGenerator(etl=etl)\n",
        "        X_features = generator.generate_feature_dataframe()\n",
        "        valid_index = X_features.loc[~X_features.isna().any(axis=1)].index\n",
        "        X = X_features.loc[valid_index]\n",
        "        prediction = model.predict(X)\n",
        "\n",
        "        yield prediction  # Send the prediction for the current dataset"
      ],
      "metadata": {
        "id": "qDD2Y8-P3uh7"
      },
      "execution_count": 87,
      "outputs": []
    },
    {
      "cell_type": "code",
      "source": [
        "\"\"\"\n",
        "# ETL pipeline\n",
        "\"\"\"\n",
        "\n",
        "etl = ETLPipeline(X_train=X_train, y_train=y_train)\n",
        "# print(etl.get_ids()[:5])  # List first 5 ids\n",
        "# print(etl.get_series_by_id(2).head())  # Time series for id 2\n",
        "# print(etl.get_target_by_id(2))  # True or False\n",
        "# print(etl.get_structural_breakdown())  # Proportion of structural breaks\n",
        "\n",
        "\"\"\"\n",
        "# Feature generator\n",
        "\"\"\"\n",
        "\n",
        "generator = FeatureGenerator(etl=etl)\n",
        "X_features = generator.generate_feature_dataframe()\n",
        "\n",
        "print(X_features.head(2))\n",
        "\n",
        "# Assume X_features and etl.y_train are ready\n",
        "valid_index = X_features.loc[~X_features.isna().any(axis=1)].index\n",
        "X = X_features.loc[valid_index]\n",
        "y = etl.y_train[valid_index]\n",
        "\n",
        "model = MLModelPipeline(X=X, y=y, model_name=\"random_forest\")  # \"logistic_regression\", \"random_forest\", \"xgboost\", \"lightgbm\", \"mlp\"\n",
        "model.fit()\n",
        "\n",
        "results = model.evaluate()\n",
        "print(results[\"classification_report\"])\n",
        "print(\"AUC:\", results[\"roc_auc\"])\n"
      ],
      "metadata": {
        "colab": {
          "base_uri": "https://localhost:8080/",
          "height": 524
        },
        "id": "uY-z4lu1xGJc",
        "outputId": "bc90e9dc-640b-4fea-87ba-4cb7d787890e"
      },
      "execution_count": 79,
      "outputs": [
        {
          "output_type": "display_data",
          "data": {
            "text/plain": [
              "    change_point_idx  mean_before_change  std_before_change  \\\n",
              "id                                                            \n",
              "\u001b[1;36m0\u001b[0m                 \u001b[1;36m-1\u001b[0m            \u001b[1;36m0.000013\u001b[0m           \u001b[1;36m0.006966\u001b[0m   \n",
              "\u001b[1;36m1\u001b[0m                 \u001b[1;36m-1\u001b[0m            \u001b[1;36m0.000104\u001b[0m           \u001b[1;36m0.002475\u001b[0m   \n",
              "\n",
              "    length_before_change  mean_after_change  std_after_change  \\\n",
              "id                                                              \n",
              "\u001b[1;36m0\u001b[0m                   \u001b[1;36m1645\u001b[0m           \u001b[1;36m0.000013\u001b[0m          \u001b[1;36m0.006966\u001b[0m   \n",
              "\u001b[1;36m1\u001b[0m                   \u001b[1;36m2529\u001b[0m           \u001b[1;36m0.000104\u001b[0m          \u001b[1;36m0.002475\u001b[0m   \n",
              "\n",
              "    length_after_change  delta_mean  \n",
              "id                                   \n",
              "\u001b[1;36m0\u001b[0m                  \u001b[1;36m1645\u001b[0m         \u001b[1;36m0.0\u001b[0m  \n",
              "\u001b[1;36m1\u001b[0m                  \u001b[1;36m2529\u001b[0m         \u001b[1;36m0.0\u001b[0m  \n"
            ],
            "text/html": [
              "<pre style=\"white-space:pre;overflow-x:auto;line-height:normal;font-family:Menlo,'DejaVu Sans Mono',consolas,'Courier New',monospace\">    change_point_idx  mean_before_change  std_before_change  \\\n",
              "id                                                            \n",
              "<span style=\"color: #008080; text-decoration-color: #008080; font-weight: bold\">0</span>                 <span style=\"color: #008080; text-decoration-color: #008080; font-weight: bold\">-1</span>            <span style=\"color: #008080; text-decoration-color: #008080; font-weight: bold\">0.000013</span>           <span style=\"color: #008080; text-decoration-color: #008080; font-weight: bold\">0.006966</span>   \n",
              "<span style=\"color: #008080; text-decoration-color: #008080; font-weight: bold\">1</span>                 <span style=\"color: #008080; text-decoration-color: #008080; font-weight: bold\">-1</span>            <span style=\"color: #008080; text-decoration-color: #008080; font-weight: bold\">0.000104</span>           <span style=\"color: #008080; text-decoration-color: #008080; font-weight: bold\">0.002475</span>   \n",
              "\n",
              "    length_before_change  mean_after_change  std_after_change  \\\n",
              "id                                                              \n",
              "<span style=\"color: #008080; text-decoration-color: #008080; font-weight: bold\">0</span>                   <span style=\"color: #008080; text-decoration-color: #008080; font-weight: bold\">1645</span>           <span style=\"color: #008080; text-decoration-color: #008080; font-weight: bold\">0.000013</span>          <span style=\"color: #008080; text-decoration-color: #008080; font-weight: bold\">0.006966</span>   \n",
              "<span style=\"color: #008080; text-decoration-color: #008080; font-weight: bold\">1</span>                   <span style=\"color: #008080; text-decoration-color: #008080; font-weight: bold\">2529</span>           <span style=\"color: #008080; text-decoration-color: #008080; font-weight: bold\">0.000104</span>          <span style=\"color: #008080; text-decoration-color: #008080; font-weight: bold\">0.002475</span>   \n",
              "\n",
              "    length_after_change  delta_mean  \n",
              "id                                   \n",
              "<span style=\"color: #008080; text-decoration-color: #008080; font-weight: bold\">0</span>                  <span style=\"color: #008080; text-decoration-color: #008080; font-weight: bold\">1645</span>         <span style=\"color: #008080; text-decoration-color: #008080; font-weight: bold\">0.0</span>  \n",
              "<span style=\"color: #008080; text-decoration-color: #008080; font-weight: bold\">1</span>                  <span style=\"color: #008080; text-decoration-color: #008080; font-weight: bold\">2529</span>         <span style=\"color: #008080; text-decoration-color: #008080; font-weight: bold\">0.0</span>  \n",
              "</pre>\n"
            ]
          },
          "metadata": {}
        },
        {
          "output_type": "display_data",
          "data": {
            "text/plain": [
              "Running model: random_forest\n"
            ],
            "text/html": [
              "<pre style=\"white-space:pre;overflow-x:auto;line-height:normal;font-family:Menlo,'DejaVu Sans Mono',consolas,'Courier New',monospace\">Running model: random_forest\n",
              "</pre>\n"
            ]
          },
          "metadata": {}
        },
        {
          "name": "stdout",
          "output_type": "stream",
          "text": [
            "> \u001b[0;32m<ipython-input-72-4e104b82bc58>\u001b[0m(334)\u001b[0;36mpredict\u001b[0;34m()\u001b[0m\n",
            "\u001b[0;32m    332 \u001b[0;31m    \u001b[0;32mdef\u001b[0m \u001b[0mpredict\u001b[0m\u001b[0;34m(\u001b[0m\u001b[0mself\u001b[0m\u001b[0;34m,\u001b[0m \u001b[0mX\u001b[0m\u001b[0;34m:\u001b[0m \u001b[0mOptional\u001b[0m\u001b[0;34m[\u001b[0m\u001b[0mpd\u001b[0m\u001b[0;34m.\u001b[0m\u001b[0mDataFrame\u001b[0m\u001b[0;34m]\u001b[0m \u001b[0;34m=\u001b[0m \u001b[0;32mNone\u001b[0m\u001b[0;34m)\u001b[0m \u001b[0;34m->\u001b[0m \u001b[0mnp\u001b[0m\u001b[0;34m.\u001b[0m\u001b[0mndarray\u001b[0m\u001b[0;34m:\u001b[0m\u001b[0;34m\u001b[0m\u001b[0;34m\u001b[0m\u001b[0m\n",
            "\u001b[0m\u001b[0;32m    333 \u001b[0;31m        \u001b[0;32mimport\u001b[0m \u001b[0mpdb\u001b[0m\u001b[0;34m;\u001b[0m \u001b[0mpdb\u001b[0m\u001b[0;34m.\u001b[0m\u001b[0mset_trace\u001b[0m\u001b[0;34m(\u001b[0m\u001b[0;34m)\u001b[0m\u001b[0;34m\u001b[0m\u001b[0;34m\u001b[0m\u001b[0m\n",
            "\u001b[0m\u001b[0;32m--> 334 \u001b[0;31m        \u001b[0;32mif\u001b[0m \u001b[0mX\u001b[0m \u001b[0;32mis\u001b[0m \u001b[0;32mNone\u001b[0m\u001b[0;34m:\u001b[0m\u001b[0;34m\u001b[0m\u001b[0;34m\u001b[0m\u001b[0m\n",
            "\u001b[0m\u001b[0;32m    335 \u001b[0;31m          \u001b[0mX\u001b[0m \u001b[0;34m=\u001b[0m \u001b[0mself\u001b[0m\u001b[0;34m.\u001b[0m\u001b[0mX_test\u001b[0m\u001b[0;34m\u001b[0m\u001b[0;34m\u001b[0m\u001b[0m\n",
            "\u001b[0m\u001b[0;32m    336 \u001b[0;31m\u001b[0;34m\u001b[0m\u001b[0m\n",
            "\u001b[0m\n",
            "ipdb> c\n"
          ]
        },
        {
          "output_type": "display_data",
          "data": {
            "text/plain": [
              "\u001b[1m{\u001b[0m\n",
              "    \u001b[32m'False'\u001b[0m: \u001b[1m{\u001b[0m\u001b[32m'precision'\u001b[0m: \u001b[1;36m1.0\u001b[0m, \u001b[32m'recall'\u001b[0m: \u001b[1;36m1.0\u001b[0m, \u001b[32m'f1-score'\u001b[0m: \u001b[1;36m1.0\u001b[0m, \u001b[32m'support'\u001b[0m: \u001b[1;36m1399.0\u001b[0m\u001b[1m}\u001b[0m,\n",
              "    \u001b[32m'True'\u001b[0m: \u001b[1m{\u001b[0m\u001b[32m'precision'\u001b[0m: \u001b[1;36m1.0\u001b[0m, \u001b[32m'recall'\u001b[0m: \u001b[1;36m1.0\u001b[0m, \u001b[32m'f1-score'\u001b[0m: \u001b[1;36m1.0\u001b[0m, \u001b[32m'support'\u001b[0m: \u001b[1;36m602.0\u001b[0m\u001b[1m}\u001b[0m,\n",
              "    \u001b[32m'accuracy'\u001b[0m: \u001b[1;36m1.0\u001b[0m,\n",
              "    \u001b[32m'macro avg'\u001b[0m: \u001b[1m{\u001b[0m\u001b[32m'precision'\u001b[0m: \u001b[1;36m1.0\u001b[0m, \u001b[32m'recall'\u001b[0m: \u001b[1;36m1.0\u001b[0m, \u001b[32m'f1-score'\u001b[0m: \u001b[1;36m1.0\u001b[0m, \u001b[32m'support'\u001b[0m: \u001b[1;36m2001.0\u001b[0m\u001b[1m}\u001b[0m,\n",
              "    \u001b[32m'weighted avg'\u001b[0m: \u001b[1m{\u001b[0m\u001b[32m'precision'\u001b[0m: \u001b[1;36m1.0\u001b[0m, \u001b[32m'recall'\u001b[0m: \u001b[1;36m1.0\u001b[0m, \u001b[32m'f1-score'\u001b[0m: \u001b[1;36m1.0\u001b[0m, \u001b[32m'support'\u001b[0m: \u001b[1;36m2001.0\u001b[0m\u001b[1m}\u001b[0m\n",
              "\u001b[1m}\u001b[0m\n"
            ],
            "text/html": [
              "<pre style=\"white-space:pre;overflow-x:auto;line-height:normal;font-family:Menlo,'DejaVu Sans Mono',consolas,'Courier New',monospace\"><span style=\"font-weight: bold\">{</span>\n",
              "    <span style=\"color: #008000; text-decoration-color: #008000\">'False'</span>: <span style=\"font-weight: bold\">{</span><span style=\"color: #008000; text-decoration-color: #008000\">'precision'</span>: <span style=\"color: #008080; text-decoration-color: #008080; font-weight: bold\">1.0</span>, <span style=\"color: #008000; text-decoration-color: #008000\">'recall'</span>: <span style=\"color: #008080; text-decoration-color: #008080; font-weight: bold\">1.0</span>, <span style=\"color: #008000; text-decoration-color: #008000\">'f1-score'</span>: <span style=\"color: #008080; text-decoration-color: #008080; font-weight: bold\">1.0</span>, <span style=\"color: #008000; text-decoration-color: #008000\">'support'</span>: <span style=\"color: #008080; text-decoration-color: #008080; font-weight: bold\">1399.0</span><span style=\"font-weight: bold\">}</span>,\n",
              "    <span style=\"color: #008000; text-decoration-color: #008000\">'True'</span>: <span style=\"font-weight: bold\">{</span><span style=\"color: #008000; text-decoration-color: #008000\">'precision'</span>: <span style=\"color: #008080; text-decoration-color: #008080; font-weight: bold\">1.0</span>, <span style=\"color: #008000; text-decoration-color: #008000\">'recall'</span>: <span style=\"color: #008080; text-decoration-color: #008080; font-weight: bold\">1.0</span>, <span style=\"color: #008000; text-decoration-color: #008000\">'f1-score'</span>: <span style=\"color: #008080; text-decoration-color: #008080; font-weight: bold\">1.0</span>, <span style=\"color: #008000; text-decoration-color: #008000\">'support'</span>: <span style=\"color: #008080; text-decoration-color: #008080; font-weight: bold\">602.0</span><span style=\"font-weight: bold\">}</span>,\n",
              "    <span style=\"color: #008000; text-decoration-color: #008000\">'accuracy'</span>: <span style=\"color: #008080; text-decoration-color: #008080; font-weight: bold\">1.0</span>,\n",
              "    <span style=\"color: #008000; text-decoration-color: #008000\">'macro avg'</span>: <span style=\"font-weight: bold\">{</span><span style=\"color: #008000; text-decoration-color: #008000\">'precision'</span>: <span style=\"color: #008080; text-decoration-color: #008080; font-weight: bold\">1.0</span>, <span style=\"color: #008000; text-decoration-color: #008000\">'recall'</span>: <span style=\"color: #008080; text-decoration-color: #008080; font-weight: bold\">1.0</span>, <span style=\"color: #008000; text-decoration-color: #008000\">'f1-score'</span>: <span style=\"color: #008080; text-decoration-color: #008080; font-weight: bold\">1.0</span>, <span style=\"color: #008000; text-decoration-color: #008000\">'support'</span>: <span style=\"color: #008080; text-decoration-color: #008080; font-weight: bold\">2001.0</span><span style=\"font-weight: bold\">}</span>,\n",
              "    <span style=\"color: #008000; text-decoration-color: #008000\">'weighted avg'</span>: <span style=\"font-weight: bold\">{</span><span style=\"color: #008000; text-decoration-color: #008000\">'precision'</span>: <span style=\"color: #008080; text-decoration-color: #008080; font-weight: bold\">1.0</span>, <span style=\"color: #008000; text-decoration-color: #008000\">'recall'</span>: <span style=\"color: #008080; text-decoration-color: #008080; font-weight: bold\">1.0</span>, <span style=\"color: #008000; text-decoration-color: #008000\">'f1-score'</span>: <span style=\"color: #008080; text-decoration-color: #008080; font-weight: bold\">1.0</span>, <span style=\"color: #008000; text-decoration-color: #008000\">'support'</span>: <span style=\"color: #008080; text-decoration-color: #008080; font-weight: bold\">2001.0</span><span style=\"font-weight: bold\">}</span>\n",
              "<span style=\"font-weight: bold\">}</span>\n",
              "</pre>\n"
            ]
          },
          "metadata": {}
        },
        {
          "output_type": "display_data",
          "data": {
            "text/plain": [
              "AUC: \u001b[1;36m1.0\u001b[0m\n"
            ],
            "text/html": [
              "<pre style=\"white-space:pre;overflow-x:auto;line-height:normal;font-family:Menlo,'DejaVu Sans Mono',consolas,'Courier New',monospace\">AUC: <span style=\"color: #008080; text-decoration-color: #008080; font-weight: bold\">1.0</span>\n",
              "</pre>\n"
            ]
          },
          "metadata": {}
        }
      ]
    },
    {
      "cell_type": "code",
      "source": [
        "type(model)\n",
        "# model.X_test.dtypes"
      ],
      "metadata": {
        "id": "WyUJvD5VMi_M",
        "outputId": "07ae1485-4077-4f64-df77-0195a5d0f2b0",
        "colab": {
          "base_uri": "https://localhost:8080/",
          "height": 186
        }
      },
      "execution_count": 84,
      "outputs": [
        {
          "output_type": "execute_result",
          "data": {
            "text/plain": [
              "__main__.MLModelPipeline"
            ],
            "text/html": [
              "<div style=\"max-width:800px; border: 1px solid var(--colab-border-color);\"><style>\n",
              "      pre.function-repr-contents {\n",
              "        overflow-x: auto;\n",
              "        padding: 8px 12px;\n",
              "        max-height: 500px;\n",
              "      }\n",
              "\n",
              "      pre.function-repr-contents.function-repr-contents-collapsed {\n",
              "        cursor: pointer;\n",
              "        max-height: 100px;\n",
              "      }\n",
              "    </style>\n",
              "    <pre style=\"white-space: initial; background:\n",
              "         var(--colab-secondary-surface-color); padding: 8px 12px;\n",
              "         border-bottom: 1px solid var(--colab-border-color);\"><b>MLModelPipeline</b><br/>def __init__(self, /, **data: Any) -&gt; None</pre><pre class=\"function-repr-contents function-repr-contents-collapsed\" style=\"\"><a class=\"filepath\" style=\"display:none\" href=\"#\"></a>!!! abstract &quot;Usage Documentation&quot;\n",
              "    [Models](../concepts/models.md)\n",
              "\n",
              "A base class for creating Pydantic models.\n",
              "\n",
              "Attributes:\n",
              "    __class_vars__: The names of the class variables defined on the model.\n",
              "    __private_attributes__: Metadata about the private attributes of the model.\n",
              "    __signature__: The synthesized `__init__` [`Signature`][inspect.Signature] of the model.\n",
              "\n",
              "    __pydantic_complete__: Whether model building is completed, or if there are still undefined fields.\n",
              "    __pydantic_core_schema__: The core schema of the model.\n",
              "    __pydantic_custom_init__: Whether the model has a custom `__init__` function.\n",
              "    __pydantic_decorators__: Metadata containing the decorators defined on the model.\n",
              "        This replaces `Model.__validators__` and `Model.__root_validators__` from Pydantic V1.\n",
              "    __pydantic_generic_metadata__: Metadata for generic models; contains data used for a similar purpose to\n",
              "        __args__, __origin__, __parameters__ in typing-module generics. May eventually be replaced by these.\n",
              "    __pydantic_parent_namespace__: Parent namespace of the model, used for automatic rebuilding of models.\n",
              "    __pydantic_post_init__: The name of the post-init method for the model, if defined.\n",
              "    __pydantic_root_model__: Whether the model is a [`RootModel`][pydantic.root_model.RootModel].\n",
              "    __pydantic_serializer__: The `pydantic-core` `SchemaSerializer` used to dump instances of the model.\n",
              "    __pydantic_validator__: The `pydantic-core` `SchemaValidator` used to validate instances of the model.\n",
              "\n",
              "    __pydantic_fields__: A dictionary of field names and their corresponding [`FieldInfo`][pydantic.fields.FieldInfo] objects.\n",
              "    __pydantic_computed_fields__: A dictionary of computed field names and their corresponding [`ComputedFieldInfo`][pydantic.fields.ComputedFieldInfo] objects.\n",
              "\n",
              "    __pydantic_extra__: A dictionary containing extra values, if [`extra`][pydantic.config.ConfigDict.extra]\n",
              "        is set to `&#x27;allow&#x27;`.\n",
              "    __pydantic_fields_set__: The names of fields explicitly set during instantiation.\n",
              "    __pydantic_private__: Values of private attributes set on the model instance.</pre></div>"
            ]
          },
          "metadata": {},
          "execution_count": 84
        }
      ]
    },
    {
      "cell_type": "code",
      "source": [
        "etl = ETLPipeline(X_train=X_test[0])\n",
        "generator = FeatureGenerator(etl=etl)\n",
        "X_features = generator.generate_feature_dataframe()\n",
        "valid_index = X_features.loc[~X_features.isna().any(axis=1)].index\n",
        "X = X_features.loc[valid_index]\n",
        "model.predict(X)"
      ],
      "metadata": {
        "colab": {
          "base_uri": "https://localhost:8080/"
        },
        "id": "MGp7qEAuyp6b",
        "outputId": "05b97262-963e-4502-d906-f1c2e207df02"
      },
      "execution_count": 80,
      "outputs": [
        {
          "name": "stdout",
          "output_type": "stream",
          "text": [
            "> \u001b[0;32m<ipython-input-72-4e104b82bc58>\u001b[0m(334)\u001b[0;36mpredict\u001b[0;34m()\u001b[0m\n",
            "\u001b[0;32m    332 \u001b[0;31m    \u001b[0;32mdef\u001b[0m \u001b[0mpredict\u001b[0m\u001b[0;34m(\u001b[0m\u001b[0mself\u001b[0m\u001b[0;34m,\u001b[0m \u001b[0mX\u001b[0m\u001b[0;34m:\u001b[0m \u001b[0mOptional\u001b[0m\u001b[0;34m[\u001b[0m\u001b[0mpd\u001b[0m\u001b[0;34m.\u001b[0m\u001b[0mDataFrame\u001b[0m\u001b[0;34m]\u001b[0m \u001b[0;34m=\u001b[0m \u001b[0;32mNone\u001b[0m\u001b[0;34m)\u001b[0m \u001b[0;34m->\u001b[0m \u001b[0mnp\u001b[0m\u001b[0;34m.\u001b[0m\u001b[0mndarray\u001b[0m\u001b[0;34m:\u001b[0m\u001b[0;34m\u001b[0m\u001b[0;34m\u001b[0m\u001b[0m\n",
            "\u001b[0m\u001b[0;32m    333 \u001b[0;31m        \u001b[0;32mimport\u001b[0m \u001b[0mpdb\u001b[0m\u001b[0;34m;\u001b[0m \u001b[0mpdb\u001b[0m\u001b[0;34m.\u001b[0m\u001b[0mset_trace\u001b[0m\u001b[0;34m(\u001b[0m\u001b[0;34m)\u001b[0m\u001b[0;34m\u001b[0m\u001b[0;34m\u001b[0m\u001b[0m\n",
            "\u001b[0m\u001b[0;32m--> 334 \u001b[0;31m        \u001b[0;32mif\u001b[0m \u001b[0mX\u001b[0m \u001b[0;32mis\u001b[0m \u001b[0;32mNone\u001b[0m\u001b[0;34m:\u001b[0m\u001b[0;34m\u001b[0m\u001b[0;34m\u001b[0m\u001b[0m\n",
            "\u001b[0m\u001b[0;32m    335 \u001b[0;31m          \u001b[0mX\u001b[0m \u001b[0;34m=\u001b[0m \u001b[0mself\u001b[0m\u001b[0;34m.\u001b[0m\u001b[0mX_test\u001b[0m\u001b[0;34m\u001b[0m\u001b[0;34m\u001b[0m\u001b[0m\n",
            "\u001b[0m\u001b[0;32m    336 \u001b[0;31m\u001b[0;34m\u001b[0m\u001b[0m\n",
            "\u001b[0m\n",
            "ipdb> c\n"
          ]
        },
        {
          "output_type": "execute_result",
          "data": {
            "text/plain": [
              "array([ True])"
            ]
          },
          "metadata": {},
          "execution_count": 80
        }
      ]
    },
    {
      "cell_type": "markdown",
      "metadata": {
        "id": "bV_5CKs--0fU"
      },
      "source": [
        "## Results\n",
        "\n",
        "Once the local tester is done, you can preview the result stored in `data/prediction.parquet`."
      ]
    },
    {
      "cell_type": "code",
      "execution_count": 19,
      "metadata": {
        "colab": {
          "base_uri": "https://localhost:8080/",
          "height": 455
        },
        "id": "ly5q68sA-0fU",
        "outputId": "b66161a9-36f9-4b35-afd6-5775c540f38d"
      },
      "outputs": [
        {
          "output_type": "execute_result",
          "data": {
            "text/plain": [
              "       prediction\n",
              "id               \n",
              "10001   -0.590381\n",
              "10002   -0.363831\n",
              "10003   -0.731208\n",
              "10004   -0.762609\n",
              "10005   -0.527371\n",
              "...           ...\n",
              "10097   -0.539917\n",
              "10098   -0.843084\n",
              "10099   -0.203762\n",
              "10100   -0.612978\n",
              "10101   -0.693475\n",
              "\n",
              "[101 rows x 1 columns]"
            ],
            "text/html": [
              "\n",
              "  <div id=\"df-cc85a68e-3850-4b3e-85dd-748d8a92961c\" class=\"colab-df-container\">\n",
              "    <div>\n",
              "<style scoped>\n",
              "    .dataframe tbody tr th:only-of-type {\n",
              "        vertical-align: middle;\n",
              "    }\n",
              "\n",
              "    .dataframe tbody tr th {\n",
              "        vertical-align: top;\n",
              "    }\n",
              "\n",
              "    .dataframe thead th {\n",
              "        text-align: right;\n",
              "    }\n",
              "</style>\n",
              "<table border=\"1\" class=\"dataframe\">\n",
              "  <thead>\n",
              "    <tr style=\"text-align: right;\">\n",
              "      <th></th>\n",
              "      <th>prediction</th>\n",
              "    </tr>\n",
              "    <tr>\n",
              "      <th>id</th>\n",
              "      <th></th>\n",
              "    </tr>\n",
              "  </thead>\n",
              "  <tbody>\n",
              "    <tr>\n",
              "      <th>10001</th>\n",
              "      <td>-0.590381</td>\n",
              "    </tr>\n",
              "    <tr>\n",
              "      <th>10002</th>\n",
              "      <td>-0.363831</td>\n",
              "    </tr>\n",
              "    <tr>\n",
              "      <th>10003</th>\n",
              "      <td>-0.731208</td>\n",
              "    </tr>\n",
              "    <tr>\n",
              "      <th>10004</th>\n",
              "      <td>-0.762609</td>\n",
              "    </tr>\n",
              "    <tr>\n",
              "      <th>10005</th>\n",
              "      <td>-0.527371</td>\n",
              "    </tr>\n",
              "    <tr>\n",
              "      <th>...</th>\n",
              "      <td>...</td>\n",
              "    </tr>\n",
              "    <tr>\n",
              "      <th>10097</th>\n",
              "      <td>-0.539917</td>\n",
              "    </tr>\n",
              "    <tr>\n",
              "      <th>10098</th>\n",
              "      <td>-0.843084</td>\n",
              "    </tr>\n",
              "    <tr>\n",
              "      <th>10099</th>\n",
              "      <td>-0.203762</td>\n",
              "    </tr>\n",
              "    <tr>\n",
              "      <th>10100</th>\n",
              "      <td>-0.612978</td>\n",
              "    </tr>\n",
              "    <tr>\n",
              "      <th>10101</th>\n",
              "      <td>-0.693475</td>\n",
              "    </tr>\n",
              "  </tbody>\n",
              "</table>\n",
              "<p>101 rows × 1 columns</p>\n",
              "</div>\n",
              "    <div class=\"colab-df-buttons\">\n",
              "\n",
              "  <div class=\"colab-df-container\">\n",
              "    <button class=\"colab-df-convert\" onclick=\"convertToInteractive('df-cc85a68e-3850-4b3e-85dd-748d8a92961c')\"\n",
              "            title=\"Convert this dataframe to an interactive table.\"\n",
              "            style=\"display:none;\">\n",
              "\n",
              "  <svg xmlns=\"http://www.w3.org/2000/svg\" height=\"24px\" viewBox=\"0 -960 960 960\">\n",
              "    <path d=\"M120-120v-720h720v720H120Zm60-500h600v-160H180v160Zm220 220h160v-160H400v160Zm0 220h160v-160H400v160ZM180-400h160v-160H180v160Zm440 0h160v-160H620v160ZM180-180h160v-160H180v160Zm440 0h160v-160H620v160Z\"/>\n",
              "  </svg>\n",
              "    </button>\n",
              "\n",
              "  <style>\n",
              "    .colab-df-container {\n",
              "      display:flex;\n",
              "      gap: 12px;\n",
              "    }\n",
              "\n",
              "    .colab-df-convert {\n",
              "      background-color: #E8F0FE;\n",
              "      border: none;\n",
              "      border-radius: 50%;\n",
              "      cursor: pointer;\n",
              "      display: none;\n",
              "      fill: #1967D2;\n",
              "      height: 32px;\n",
              "      padding: 0 0 0 0;\n",
              "      width: 32px;\n",
              "    }\n",
              "\n",
              "    .colab-df-convert:hover {\n",
              "      background-color: #E2EBFA;\n",
              "      box-shadow: 0px 1px 2px rgba(60, 64, 67, 0.3), 0px 1px 3px 1px rgba(60, 64, 67, 0.15);\n",
              "      fill: #174EA6;\n",
              "    }\n",
              "\n",
              "    .colab-df-buttons div {\n",
              "      margin-bottom: 4px;\n",
              "    }\n",
              "\n",
              "    [theme=dark] .colab-df-convert {\n",
              "      background-color: #3B4455;\n",
              "      fill: #D2E3FC;\n",
              "    }\n",
              "\n",
              "    [theme=dark] .colab-df-convert:hover {\n",
              "      background-color: #434B5C;\n",
              "      box-shadow: 0px 1px 3px 1px rgba(0, 0, 0, 0.15);\n",
              "      filter: drop-shadow(0px 1px 2px rgba(0, 0, 0, 0.3));\n",
              "      fill: #FFFFFF;\n",
              "    }\n",
              "  </style>\n",
              "\n",
              "    <script>\n",
              "      const buttonEl =\n",
              "        document.querySelector('#df-cc85a68e-3850-4b3e-85dd-748d8a92961c button.colab-df-convert');\n",
              "      buttonEl.style.display =\n",
              "        google.colab.kernel.accessAllowed ? 'block' : 'none';\n",
              "\n",
              "      async function convertToInteractive(key) {\n",
              "        const element = document.querySelector('#df-cc85a68e-3850-4b3e-85dd-748d8a92961c');\n",
              "        const dataTable =\n",
              "          await google.colab.kernel.invokeFunction('convertToInteractive',\n",
              "                                                    [key], {});\n",
              "        if (!dataTable) return;\n",
              "\n",
              "        const docLinkHtml = 'Like what you see? Visit the ' +\n",
              "          '<a target=\"_blank\" href=https://colab.research.google.com/notebooks/data_table.ipynb>data table notebook</a>'\n",
              "          + ' to learn more about interactive tables.';\n",
              "        element.innerHTML = '';\n",
              "        dataTable['output_type'] = 'display_data';\n",
              "        await google.colab.output.renderOutput(dataTable, element);\n",
              "        const docLink = document.createElement('div');\n",
              "        docLink.innerHTML = docLinkHtml;\n",
              "        element.appendChild(docLink);\n",
              "      }\n",
              "    </script>\n",
              "  </div>\n",
              "\n",
              "\n",
              "    <div id=\"df-cbc076f9-f842-4291-bc5f-3b12c5361107\">\n",
              "      <button class=\"colab-df-quickchart\" onclick=\"quickchart('df-cbc076f9-f842-4291-bc5f-3b12c5361107')\"\n",
              "                title=\"Suggest charts\"\n",
              "                style=\"display:none;\">\n",
              "\n",
              "<svg xmlns=\"http://www.w3.org/2000/svg\" height=\"24px\"viewBox=\"0 0 24 24\"\n",
              "     width=\"24px\">\n",
              "    <g>\n",
              "        <path d=\"M19 3H5c-1.1 0-2 .9-2 2v14c0 1.1.9 2 2 2h14c1.1 0 2-.9 2-2V5c0-1.1-.9-2-2-2zM9 17H7v-7h2v7zm4 0h-2V7h2v10zm4 0h-2v-4h2v4z\"/>\n",
              "    </g>\n",
              "</svg>\n",
              "      </button>\n",
              "\n",
              "<style>\n",
              "  .colab-df-quickchart {\n",
              "      --bg-color: #E8F0FE;\n",
              "      --fill-color: #1967D2;\n",
              "      --hover-bg-color: #E2EBFA;\n",
              "      --hover-fill-color: #174EA6;\n",
              "      --disabled-fill-color: #AAA;\n",
              "      --disabled-bg-color: #DDD;\n",
              "  }\n",
              "\n",
              "  [theme=dark] .colab-df-quickchart {\n",
              "      --bg-color: #3B4455;\n",
              "      --fill-color: #D2E3FC;\n",
              "      --hover-bg-color: #434B5C;\n",
              "      --hover-fill-color: #FFFFFF;\n",
              "      --disabled-bg-color: #3B4455;\n",
              "      --disabled-fill-color: #666;\n",
              "  }\n",
              "\n",
              "  .colab-df-quickchart {\n",
              "    background-color: var(--bg-color);\n",
              "    border: none;\n",
              "    border-radius: 50%;\n",
              "    cursor: pointer;\n",
              "    display: none;\n",
              "    fill: var(--fill-color);\n",
              "    height: 32px;\n",
              "    padding: 0;\n",
              "    width: 32px;\n",
              "  }\n",
              "\n",
              "  .colab-df-quickchart:hover {\n",
              "    background-color: var(--hover-bg-color);\n",
              "    box-shadow: 0 1px 2px rgba(60, 64, 67, 0.3), 0 1px 3px 1px rgba(60, 64, 67, 0.15);\n",
              "    fill: var(--button-hover-fill-color);\n",
              "  }\n",
              "\n",
              "  .colab-df-quickchart-complete:disabled,\n",
              "  .colab-df-quickchart-complete:disabled:hover {\n",
              "    background-color: var(--disabled-bg-color);\n",
              "    fill: var(--disabled-fill-color);\n",
              "    box-shadow: none;\n",
              "  }\n",
              "\n",
              "  .colab-df-spinner {\n",
              "    border: 2px solid var(--fill-color);\n",
              "    border-color: transparent;\n",
              "    border-bottom-color: var(--fill-color);\n",
              "    animation:\n",
              "      spin 1s steps(1) infinite;\n",
              "  }\n",
              "\n",
              "  @keyframes spin {\n",
              "    0% {\n",
              "      border-color: transparent;\n",
              "      border-bottom-color: var(--fill-color);\n",
              "      border-left-color: var(--fill-color);\n",
              "    }\n",
              "    20% {\n",
              "      border-color: transparent;\n",
              "      border-left-color: var(--fill-color);\n",
              "      border-top-color: var(--fill-color);\n",
              "    }\n",
              "    30% {\n",
              "      border-color: transparent;\n",
              "      border-left-color: var(--fill-color);\n",
              "      border-top-color: var(--fill-color);\n",
              "      border-right-color: var(--fill-color);\n",
              "    }\n",
              "    40% {\n",
              "      border-color: transparent;\n",
              "      border-right-color: var(--fill-color);\n",
              "      border-top-color: var(--fill-color);\n",
              "    }\n",
              "    60% {\n",
              "      border-color: transparent;\n",
              "      border-right-color: var(--fill-color);\n",
              "    }\n",
              "    80% {\n",
              "      border-color: transparent;\n",
              "      border-right-color: var(--fill-color);\n",
              "      border-bottom-color: var(--fill-color);\n",
              "    }\n",
              "    90% {\n",
              "      border-color: transparent;\n",
              "      border-bottom-color: var(--fill-color);\n",
              "    }\n",
              "  }\n",
              "</style>\n",
              "\n",
              "      <script>\n",
              "        async function quickchart(key) {\n",
              "          const quickchartButtonEl =\n",
              "            document.querySelector('#' + key + ' button');\n",
              "          quickchartButtonEl.disabled = true;  // To prevent multiple clicks.\n",
              "          quickchartButtonEl.classList.add('colab-df-spinner');\n",
              "          try {\n",
              "            const charts = await google.colab.kernel.invokeFunction(\n",
              "                'suggestCharts', [key], {});\n",
              "          } catch (error) {\n",
              "            console.error('Error during call to suggestCharts:', error);\n",
              "          }\n",
              "          quickchartButtonEl.classList.remove('colab-df-spinner');\n",
              "          quickchartButtonEl.classList.add('colab-df-quickchart-complete');\n",
              "        }\n",
              "        (() => {\n",
              "          let quickchartButtonEl =\n",
              "            document.querySelector('#df-cbc076f9-f842-4291-bc5f-3b12c5361107 button');\n",
              "          quickchartButtonEl.style.display =\n",
              "            google.colab.kernel.accessAllowed ? 'block' : 'none';\n",
              "        })();\n",
              "      </script>\n",
              "    </div>\n",
              "\n",
              "  <div id=\"id_177c39eb-ef95-4375-9f07-4f96b3c2c649\">\n",
              "    <style>\n",
              "      .colab-df-generate {\n",
              "        background-color: #E8F0FE;\n",
              "        border: none;\n",
              "        border-radius: 50%;\n",
              "        cursor: pointer;\n",
              "        display: none;\n",
              "        fill: #1967D2;\n",
              "        height: 32px;\n",
              "        padding: 0 0 0 0;\n",
              "        width: 32px;\n",
              "      }\n",
              "\n",
              "      .colab-df-generate:hover {\n",
              "        background-color: #E2EBFA;\n",
              "        box-shadow: 0px 1px 2px rgba(60, 64, 67, 0.3), 0px 1px 3px 1px rgba(60, 64, 67, 0.15);\n",
              "        fill: #174EA6;\n",
              "      }\n",
              "\n",
              "      [theme=dark] .colab-df-generate {\n",
              "        background-color: #3B4455;\n",
              "        fill: #D2E3FC;\n",
              "      }\n",
              "\n",
              "      [theme=dark] .colab-df-generate:hover {\n",
              "        background-color: #434B5C;\n",
              "        box-shadow: 0px 1px 3px 1px rgba(0, 0, 0, 0.15);\n",
              "        filter: drop-shadow(0px 1px 2px rgba(0, 0, 0, 0.3));\n",
              "        fill: #FFFFFF;\n",
              "      }\n",
              "    </style>\n",
              "    <button class=\"colab-df-generate\" onclick=\"generateWithVariable('prediction')\"\n",
              "            title=\"Generate code using this dataframe.\"\n",
              "            style=\"display:none;\">\n",
              "\n",
              "  <svg xmlns=\"http://www.w3.org/2000/svg\" height=\"24px\"viewBox=\"0 0 24 24\"\n",
              "       width=\"24px\">\n",
              "    <path d=\"M7,19H8.4L18.45,9,17,7.55,7,17.6ZM5,21V16.75L18.45,3.32a2,2,0,0,1,2.83,0l1.4,1.43a1.91,1.91,0,0,1,.58,1.4,1.91,1.91,0,0,1-.58,1.4L9.25,21ZM18.45,9,17,7.55Zm-12,3A5.31,5.31,0,0,0,4.9,8.1,5.31,5.31,0,0,0,1,6.5,5.31,5.31,0,0,0,4.9,4.9,5.31,5.31,0,0,0,6.5,1,5.31,5.31,0,0,0,8.1,4.9,5.31,5.31,0,0,0,12,6.5,5.46,5.46,0,0,0,6.5,12Z\"/>\n",
              "  </svg>\n",
              "    </button>\n",
              "    <script>\n",
              "      (() => {\n",
              "      const buttonEl =\n",
              "        document.querySelector('#id_177c39eb-ef95-4375-9f07-4f96b3c2c649 button.colab-df-generate');\n",
              "      buttonEl.style.display =\n",
              "        google.colab.kernel.accessAllowed ? 'block' : 'none';\n",
              "\n",
              "      buttonEl.onclick = () => {\n",
              "        google.colab.notebook.generateWithVariable('prediction');\n",
              "      }\n",
              "      })();\n",
              "    </script>\n",
              "  </div>\n",
              "\n",
              "    </div>\n",
              "  </div>\n"
            ],
            "application/vnd.google.colaboratory.intrinsic+json": {
              "type": "dataframe",
              "variable_name": "prediction",
              "summary": "{\n  \"name\": \"prediction\",\n  \"rows\": 101,\n  \"fields\": [\n    {\n      \"column\": \"id\",\n      \"properties\": {\n        \"dtype\": \"number\",\n        \"std\": 29,\n        \"min\": 10001,\n        \"max\": 10101,\n        \"num_unique_values\": 101,\n        \"samples\": [\n          10085,\n          10056,\n          10067\n        ],\n        \"semantic_type\": \"\",\n        \"description\": \"\"\n      }\n    },\n    {\n      \"column\": \"prediction\",\n      \"properties\": {\n        \"dtype\": \"number\",\n        \"std\": 0.2828149503463287,\n        \"min\": -0.9962915861381159,\n        \"max\": -0.00659070006706747,\n        \"num_unique_values\": 101,\n        \"samples\": [\n          -0.04310589982772439,\n          -0.6118452510099981,\n          -0.554533709702293\n        ],\n        \"semantic_type\": \"\",\n        \"description\": \"\"\n      }\n    }\n  ]\n}"
            }
          },
          "metadata": {},
          "execution_count": 19
        }
      ],
      "source": [
        "prediction = pd.read_parquet(\"data/prediction.parquet\")\n",
        "prediction"
      ]
    },
    {
      "cell_type": "markdown",
      "metadata": {
        "id": "1oP-NLGh-0fU"
      },
      "source": [
        "### Local scoring\n",
        "\n",
        "You can call the function that the system uses to estimate your score locally."
      ]
    },
    {
      "cell_type": "code",
      "execution_count": 21,
      "metadata": {
        "colab": {
          "base_uri": "https://localhost:8080/"
        },
        "id": "RyCrjpzv-0fU",
        "outputId": "cd7f0ac5-fa69-442f-cf31-79b94d43ac51"
      },
      "outputs": [
        {
          "output_type": "execute_result",
          "data": {
            "text/plain": [
              "np.float64(0.48450704225352115)"
            ]
          },
          "metadata": {},
          "execution_count": 21
        }
      ],
      "source": [
        "# Load the targets\n",
        "target = pd.read_parquet(\"data/y_test.reduced.parquet\")[\"structural_breakpoint\"]\n",
        "\n",
        "# Call the scoring function\n",
        "sklearn.metrics.roc_auc_score(\n",
        "    target,\n",
        "    prediction,\n",
        ")"
      ]
    },
    {
      "cell_type": "markdown",
      "metadata": {
        "id": "3AE1i3pR-0fV"
      },
      "source": [
        "# Submit your Notebook\n",
        "\n",
        "To submit your work, you must:\n",
        "1. Download your Notebook from Colab\n",
        "2. Upload it to the platform\n",
        "3. Create a run to validate it\n",
        "\n",
        "### >> https://hub.crunchdao.com/competitions/structural-break/submit/notebook\n",
        "\n",
        "![Download and Submit Notebook](https://raw.githubusercontent.com/crunchdao/competitions/refs/heads/master/documentation/animations/download-and-submit-notebook.gif)"
      ]
    }
  ],
  "metadata": {
    "colab": {
      "provenance": []
    },
    "kernelspec": {
      "display_name": "Python 3",
      "language": "python",
      "name": "python3"
    },
    "language_info": {
      "codemirror_mode": {
        "name": "ipython",
        "version": 3
      },
      "file_extension": ".py",
      "mimetype": "text/x-python",
      "name": "python",
      "nbconvert_exporter": "python",
      "pygments_lexer": "ipython3",
      "version": "3.10.11"
    }
  },
  "nbformat": 4,
  "nbformat_minor": 0
}